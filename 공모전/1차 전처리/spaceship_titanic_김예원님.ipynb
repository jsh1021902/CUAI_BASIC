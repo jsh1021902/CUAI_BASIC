{
 "cells": [
  {
   "cell_type": "code",
   "execution_count": 249,
   "id": "cac865a8",
   "metadata": {},
   "outputs": [],
   "source": [
    "import pandas as pd\n",
    "\n",
    "train_df = pd.read_csv('train.csv')\n",
    "test_df = pd.read_csv('test.csv')"
   ]
  },
  {
   "cell_type": "code",
   "execution_count": 250,
   "id": "149d1525",
   "metadata": {},
   "outputs": [
    {
     "name": "stdout",
     "output_type": "stream",
     "text": [
      "(8693, 14)\n",
      "(4277, 13)\n"
     ]
    }
   ],
   "source": [
    "print(train_df.shape) #13개의 피쳐, transported는 target값\n",
    "print(test_df.shape)"
   ]
  },
  {
   "cell_type": "code",
   "execution_count": 251,
   "id": "cb5f943a",
   "metadata": {},
   "outputs": [
    {
     "name": "stdout",
     "output_type": "stream",
     "text": [
      "<class 'pandas.core.frame.DataFrame'>\n",
      "RangeIndex: 8693 entries, 0 to 8692\n",
      "Data columns (total 14 columns):\n",
      " #   Column        Non-Null Count  Dtype  \n",
      "---  ------        --------------  -----  \n",
      " 0   PassengerId   8693 non-null   object \n",
      " 1   HomePlanet    8492 non-null   object \n",
      " 2   CryoSleep     8476 non-null   object \n",
      " 3   Cabin         8494 non-null   object \n",
      " 4   Destination   8511 non-null   object \n",
      " 5   Age           8514 non-null   float64\n",
      " 6   VIP           8490 non-null   object \n",
      " 7   RoomService   8512 non-null   float64\n",
      " 8   FoodCourt     8510 non-null   float64\n",
      " 9   ShoppingMall  8485 non-null   float64\n",
      " 10  Spa           8510 non-null   float64\n",
      " 11  VRDeck        8505 non-null   float64\n",
      " 12  Name          8493 non-null   object \n",
      " 13  Transported   8693 non-null   bool   \n",
      "dtypes: bool(1), float64(6), object(7)\n",
      "memory usage: 891.5+ KB\n"
     ]
    }
   ],
   "source": [
    "train_df.info()"
   ]
  },
  {
   "cell_type": "markdown",
   "id": "8f0a6d2f",
   "metadata": {},
   "source": [
    "## PassengerId, Name 칼럼 삭제"
   ]
  },
  {
   "cell_type": "code",
   "execution_count": 252,
   "id": "954421c1",
   "metadata": {},
   "outputs": [],
   "source": [
    "train_df.drop(['PassengerId','Name'], axis=1, inplace = True)"
   ]
  },
  {
   "cell_type": "code",
   "execution_count": 253,
   "id": "8b48214b",
   "metadata": {},
   "outputs": [
    {
     "data": {
      "text/html": [
       "<div>\n",
       "<style scoped>\n",
       "    .dataframe tbody tr th:only-of-type {\n",
       "        vertical-align: middle;\n",
       "    }\n",
       "\n",
       "    .dataframe tbody tr th {\n",
       "        vertical-align: top;\n",
       "    }\n",
       "\n",
       "    .dataframe thead th {\n",
       "        text-align: right;\n",
       "    }\n",
       "</style>\n",
       "<table border=\"1\" class=\"dataframe\">\n",
       "  <thead>\n",
       "    <tr style=\"text-align: right;\">\n",
       "      <th></th>\n",
       "      <th>HomePlanet</th>\n",
       "      <th>CryoSleep</th>\n",
       "      <th>Cabin</th>\n",
       "      <th>Destination</th>\n",
       "      <th>Age</th>\n",
       "      <th>VIP</th>\n",
       "      <th>RoomService</th>\n",
       "      <th>FoodCourt</th>\n",
       "      <th>ShoppingMall</th>\n",
       "      <th>Spa</th>\n",
       "      <th>VRDeck</th>\n",
       "      <th>Transported</th>\n",
       "    </tr>\n",
       "  </thead>\n",
       "  <tbody>\n",
       "    <tr>\n",
       "      <th>0</th>\n",
       "      <td>Europa</td>\n",
       "      <td>False</td>\n",
       "      <td>B/0/P</td>\n",
       "      <td>TRAPPIST-1e</td>\n",
       "      <td>39.0</td>\n",
       "      <td>False</td>\n",
       "      <td>0.0</td>\n",
       "      <td>0.0</td>\n",
       "      <td>0.0</td>\n",
       "      <td>0.0</td>\n",
       "      <td>0.0</td>\n",
       "      <td>False</td>\n",
       "    </tr>\n",
       "    <tr>\n",
       "      <th>1</th>\n",
       "      <td>Earth</td>\n",
       "      <td>False</td>\n",
       "      <td>F/0/S</td>\n",
       "      <td>TRAPPIST-1e</td>\n",
       "      <td>24.0</td>\n",
       "      <td>False</td>\n",
       "      <td>109.0</td>\n",
       "      <td>9.0</td>\n",
       "      <td>25.0</td>\n",
       "      <td>549.0</td>\n",
       "      <td>44.0</td>\n",
       "      <td>True</td>\n",
       "    </tr>\n",
       "    <tr>\n",
       "      <th>2</th>\n",
       "      <td>Europa</td>\n",
       "      <td>False</td>\n",
       "      <td>A/0/S</td>\n",
       "      <td>TRAPPIST-1e</td>\n",
       "      <td>58.0</td>\n",
       "      <td>True</td>\n",
       "      <td>43.0</td>\n",
       "      <td>3576.0</td>\n",
       "      <td>0.0</td>\n",
       "      <td>6715.0</td>\n",
       "      <td>49.0</td>\n",
       "      <td>False</td>\n",
       "    </tr>\n",
       "    <tr>\n",
       "      <th>3</th>\n",
       "      <td>Europa</td>\n",
       "      <td>False</td>\n",
       "      <td>A/0/S</td>\n",
       "      <td>TRAPPIST-1e</td>\n",
       "      <td>33.0</td>\n",
       "      <td>False</td>\n",
       "      <td>0.0</td>\n",
       "      <td>1283.0</td>\n",
       "      <td>371.0</td>\n",
       "      <td>3329.0</td>\n",
       "      <td>193.0</td>\n",
       "      <td>False</td>\n",
       "    </tr>\n",
       "    <tr>\n",
       "      <th>4</th>\n",
       "      <td>Earth</td>\n",
       "      <td>False</td>\n",
       "      <td>F/1/S</td>\n",
       "      <td>TRAPPIST-1e</td>\n",
       "      <td>16.0</td>\n",
       "      <td>False</td>\n",
       "      <td>303.0</td>\n",
       "      <td>70.0</td>\n",
       "      <td>151.0</td>\n",
       "      <td>565.0</td>\n",
       "      <td>2.0</td>\n",
       "      <td>True</td>\n",
       "    </tr>\n",
       "    <tr>\n",
       "      <th>...</th>\n",
       "      <td>...</td>\n",
       "      <td>...</td>\n",
       "      <td>...</td>\n",
       "      <td>...</td>\n",
       "      <td>...</td>\n",
       "      <td>...</td>\n",
       "      <td>...</td>\n",
       "      <td>...</td>\n",
       "      <td>...</td>\n",
       "      <td>...</td>\n",
       "      <td>...</td>\n",
       "      <td>...</td>\n",
       "    </tr>\n",
       "    <tr>\n",
       "      <th>8688</th>\n",
       "      <td>Europa</td>\n",
       "      <td>False</td>\n",
       "      <td>A/98/P</td>\n",
       "      <td>55 Cancri e</td>\n",
       "      <td>41.0</td>\n",
       "      <td>True</td>\n",
       "      <td>0.0</td>\n",
       "      <td>6819.0</td>\n",
       "      <td>0.0</td>\n",
       "      <td>1643.0</td>\n",
       "      <td>74.0</td>\n",
       "      <td>False</td>\n",
       "    </tr>\n",
       "    <tr>\n",
       "      <th>8689</th>\n",
       "      <td>Earth</td>\n",
       "      <td>True</td>\n",
       "      <td>G/1499/S</td>\n",
       "      <td>PSO J318.5-22</td>\n",
       "      <td>18.0</td>\n",
       "      <td>False</td>\n",
       "      <td>0.0</td>\n",
       "      <td>0.0</td>\n",
       "      <td>0.0</td>\n",
       "      <td>0.0</td>\n",
       "      <td>0.0</td>\n",
       "      <td>False</td>\n",
       "    </tr>\n",
       "    <tr>\n",
       "      <th>8690</th>\n",
       "      <td>Earth</td>\n",
       "      <td>False</td>\n",
       "      <td>G/1500/S</td>\n",
       "      <td>TRAPPIST-1e</td>\n",
       "      <td>26.0</td>\n",
       "      <td>False</td>\n",
       "      <td>0.0</td>\n",
       "      <td>0.0</td>\n",
       "      <td>1872.0</td>\n",
       "      <td>1.0</td>\n",
       "      <td>0.0</td>\n",
       "      <td>True</td>\n",
       "    </tr>\n",
       "    <tr>\n",
       "      <th>8691</th>\n",
       "      <td>Europa</td>\n",
       "      <td>False</td>\n",
       "      <td>E/608/S</td>\n",
       "      <td>55 Cancri e</td>\n",
       "      <td>32.0</td>\n",
       "      <td>False</td>\n",
       "      <td>0.0</td>\n",
       "      <td>1049.0</td>\n",
       "      <td>0.0</td>\n",
       "      <td>353.0</td>\n",
       "      <td>3235.0</td>\n",
       "      <td>False</td>\n",
       "    </tr>\n",
       "    <tr>\n",
       "      <th>8692</th>\n",
       "      <td>Europa</td>\n",
       "      <td>False</td>\n",
       "      <td>E/608/S</td>\n",
       "      <td>TRAPPIST-1e</td>\n",
       "      <td>44.0</td>\n",
       "      <td>False</td>\n",
       "      <td>126.0</td>\n",
       "      <td>4688.0</td>\n",
       "      <td>0.0</td>\n",
       "      <td>0.0</td>\n",
       "      <td>12.0</td>\n",
       "      <td>True</td>\n",
       "    </tr>\n",
       "  </tbody>\n",
       "</table>\n",
       "<p>8693 rows × 12 columns</p>\n",
       "</div>"
      ],
      "text/plain": [
       "     HomePlanet CryoSleep     Cabin    Destination   Age    VIP  RoomService  \\\n",
       "0        Europa     False     B/0/P    TRAPPIST-1e  39.0  False          0.0   \n",
       "1         Earth     False     F/0/S    TRAPPIST-1e  24.0  False        109.0   \n",
       "2        Europa     False     A/0/S    TRAPPIST-1e  58.0   True         43.0   \n",
       "3        Europa     False     A/0/S    TRAPPIST-1e  33.0  False          0.0   \n",
       "4         Earth     False     F/1/S    TRAPPIST-1e  16.0  False        303.0   \n",
       "...         ...       ...       ...            ...   ...    ...          ...   \n",
       "8688     Europa     False    A/98/P    55 Cancri e  41.0   True          0.0   \n",
       "8689      Earth      True  G/1499/S  PSO J318.5-22  18.0  False          0.0   \n",
       "8690      Earth     False  G/1500/S    TRAPPIST-1e  26.0  False          0.0   \n",
       "8691     Europa     False   E/608/S    55 Cancri e  32.0  False          0.0   \n",
       "8692     Europa     False   E/608/S    TRAPPIST-1e  44.0  False        126.0   \n",
       "\n",
       "      FoodCourt  ShoppingMall     Spa  VRDeck  Transported  \n",
       "0           0.0           0.0     0.0     0.0        False  \n",
       "1           9.0          25.0   549.0    44.0         True  \n",
       "2        3576.0           0.0  6715.0    49.0        False  \n",
       "3        1283.0         371.0  3329.0   193.0        False  \n",
       "4          70.0         151.0   565.0     2.0         True  \n",
       "...         ...           ...     ...     ...          ...  \n",
       "8688     6819.0           0.0  1643.0    74.0        False  \n",
       "8689        0.0           0.0     0.0     0.0        False  \n",
       "8690        0.0        1872.0     1.0     0.0         True  \n",
       "8691     1049.0           0.0   353.0  3235.0        False  \n",
       "8692     4688.0           0.0     0.0    12.0         True  \n",
       "\n",
       "[8693 rows x 12 columns]"
      ]
     },
     "execution_count": 253,
     "metadata": {},
     "output_type": "execute_result"
    }
   ],
   "source": [
    "train_df"
   ]
  },
  {
   "cell_type": "markdown",
   "id": "18141971",
   "metadata": {},
   "source": [
    "## NULL 값 확인"
   ]
  },
  {
   "cell_type": "code",
   "execution_count": 254,
   "id": "d6eb9249",
   "metadata": {},
   "outputs": [
    {
     "data": {
      "text/plain": [
       "HomePlanet      201\n",
       "CryoSleep       217\n",
       "Cabin           199\n",
       "Destination     182\n",
       "Age             179\n",
       "VIP             203\n",
       "RoomService     181\n",
       "FoodCourt       183\n",
       "ShoppingMall    208\n",
       "Spa             183\n",
       "VRDeck          188\n",
       "Transported       0\n",
       "dtype: int64"
      ]
     },
     "execution_count": 254,
     "metadata": {},
     "output_type": "execute_result"
    }
   ],
   "source": [
    "train_df.isnull().sum()"
   ]
  },
  {
   "cell_type": "markdown",
   "id": "64052bc3",
   "metadata": {},
   "source": [
    "### HomePlanet"
   ]
  },
  {
   "cell_type": "code",
   "execution_count": 255,
   "id": "b0c40e6c",
   "metadata": {},
   "outputs": [
    {
     "data": {
      "text/plain": [
       "Earth     4602\n",
       "Europa    2131\n",
       "Mars      1759\n",
       "NaN        201\n",
       "Name: HomePlanet, dtype: int64"
      ]
     },
     "execution_count": 255,
     "metadata": {},
     "output_type": "execute_result"
    }
   ],
   "source": [
    "train_df['HomePlanet'].value_counts(dropna=False)"
   ]
  },
  {
   "cell_type": "code",
   "execution_count": 256,
   "id": "e991a360",
   "metadata": {},
   "outputs": [],
   "source": [
    "train_df['HomePlanet'] = train_df['HomePlanet'].fillna('Earth')"
   ]
  },
  {
   "cell_type": "code",
   "execution_count": 257,
   "id": "ca7f931e",
   "metadata": {},
   "outputs": [
    {
     "data": {
      "text/plain": [
       "Earth     4803\n",
       "Europa    2131\n",
       "Mars      1759\n",
       "Name: HomePlanet, dtype: int64"
      ]
     },
     "execution_count": 257,
     "metadata": {},
     "output_type": "execute_result"
    }
   ],
   "source": [
    "train_df['HomePlanet'].value_counts(dropna=False)"
   ]
  },
  {
   "cell_type": "markdown",
   "id": "dbc99c7f",
   "metadata": {},
   "source": [
    "### CryoSleep"
   ]
  },
  {
   "cell_type": "code",
   "execution_count": 258,
   "id": "87f02589",
   "metadata": {},
   "outputs": [
    {
     "data": {
      "text/plain": [
       "False    5439\n",
       "True     3037\n",
       "NaN       217\n",
       "Name: CryoSleep, dtype: int64"
      ]
     },
     "execution_count": 258,
     "metadata": {},
     "output_type": "execute_result"
    }
   ],
   "source": [
    "train_df['CryoSleep'].value_counts(dropna=False)"
   ]
  },
  {
   "cell_type": "code",
   "execution_count": 259,
   "id": "f91f47b4",
   "metadata": {},
   "outputs": [],
   "source": [
    "train_df['CryoSleep'] = train_df['CryoSleep'].fillna(0)"
   ]
  },
  {
   "cell_type": "code",
   "execution_count": 260,
   "id": "b8a845e7",
   "metadata": {},
   "outputs": [
    {
     "data": {
      "text/plain": [
       "False    5656\n",
       "True     3037\n",
       "Name: CryoSleep, dtype: int64"
      ]
     },
     "execution_count": 260,
     "metadata": {},
     "output_type": "execute_result"
    }
   ],
   "source": [
    "train_df['CryoSleep'].value_counts(dropna=False)"
   ]
  },
  {
   "cell_type": "markdown",
   "id": "fedfeeca",
   "metadata": {},
   "source": [
    "### Cabin"
   ]
  },
  {
   "cell_type": "code",
   "execution_count": 261,
   "id": "a0795746",
   "metadata": {},
   "outputs": [],
   "source": [
    "train_df['Cabin'] = train_df['Cabin'].fillna(train_df['Cabin'].mode()[0])"
   ]
  },
  {
   "cell_type": "code",
   "execution_count": 262,
   "id": "f4ec0fc5",
   "metadata": {},
   "outputs": [
    {
     "data": {
      "text/plain": [
       "G/734/S     207\n",
       "C/21/P        7\n",
       "B/201/P       7\n",
       "G/1368/P      7\n",
       "E/13/S        7\n",
       "           ... \n",
       "G/556/P       1\n",
       "E/231/S       1\n",
       "G/545/S       1\n",
       "G/543/S       1\n",
       "F/947/P       1\n",
       "Name: Cabin, Length: 6560, dtype: int64"
      ]
     },
     "execution_count": 262,
     "metadata": {},
     "output_type": "execute_result"
    }
   ],
   "source": [
    "train_df['Cabin'].value_counts(dropna=False)"
   ]
  },
  {
   "cell_type": "code",
   "execution_count": 263,
   "id": "b4277bdf",
   "metadata": {},
   "outputs": [],
   "source": [
    "cabin_list = train_df[\"Cabin\"].apply(lambda x: x.split(\"/\"))\n",
    "\n",
    "train_df[\"Cab_type\"] = cabin_list.apply(lambda x: x[0])\n",
    "train_df[\"Cab_room\"] = cabin_list.apply(lambda x: float(x[1]))\n",
    "train_df[\"Cab_ps\"] = cabin_list.apply(lambda x: x[2])"
   ]
  },
  {
   "cell_type": "code",
   "execution_count": 264,
   "id": "783af219",
   "metadata": {},
   "outputs": [
    {
     "data": {
      "text/plain": [
       "0       B\n",
       "1       F\n",
       "2       A\n",
       "3       A\n",
       "4       F\n",
       "       ..\n",
       "8688    A\n",
       "8689    G\n",
       "8690    G\n",
       "8691    E\n",
       "8692    E\n",
       "Name: Cab_type, Length: 8693, dtype: object"
      ]
     },
     "execution_count": 264,
     "metadata": {},
     "output_type": "execute_result"
    }
   ],
   "source": [
    "train_df[\"Cab_type\"]"
   ]
  },
  {
   "cell_type": "code",
   "execution_count": 265,
   "id": "14ea23a1",
   "metadata": {},
   "outputs": [],
   "source": [
    "transported = train_df[train_df[\"Transported\"]==1][\"Cab_type\"].value_counts()\n",
    "not_transported = train_df[train_df[\"Transported\"]==0][\"Cab_type\"].value_counts()"
   ]
  },
  {
   "cell_type": "code",
   "execution_count": 270,
   "id": "b7033936",
   "metadata": {},
   "outputs": [
    {
     "data": {
      "image/png": "[encoded data removed]",
      "text/plain": [
       "<Figure size 800x400 with 1 Axes>"
      ]
     },
     "metadata": {},
     "output_type": "display_data"
    }
   ],
   "source": [
    "df = pd.DataFrame([transported, not_transported])\n",
    "df.index = ['transported','not_transported']\n",
    "df.plot(kind= 'bar',stacked= False , figsize= (8,4))\n",
    "plt.title('Cab_type')\n",
    "plt.show()"
   ]
  },
  {
   "cell_type": "markdown",
   "id": "96197a67",
   "metadata": {},
   "source": [
    "### Destination"
   ]
  },
  {
   "cell_type": "code",
   "execution_count": 192,
   "id": "ad1f0203",
   "metadata": {},
   "outputs": [
    {
     "data": {
      "text/plain": [
       "TRAPPIST-1e      5915\n",
       "55 Cancri e      1800\n",
       "PSO J318.5-22     796\n",
       "NaN               182\n",
       "Name: Destination, dtype: int64"
      ]
     },
     "execution_count": 192,
     "metadata": {},
     "output_type": "execute_result"
    }
   ],
   "source": [
    "train_df['Destination'].value_counts(dropna=False)"
   ]
  },
  {
   "cell_type": "code",
   "execution_count": 193,
   "id": "0e89aa83",
   "metadata": {},
   "outputs": [],
   "source": [
    "train_df['Destination'] = train_df['Destination'].fillna(train_df['Destination'].mode()[0])"
   ]
  },
  {
   "cell_type": "markdown",
   "id": "df8ead19",
   "metadata": {},
   "source": [
    "### ShoppingMall"
   ]
  },
  {
   "cell_type": "code",
   "execution_count": 194,
   "id": "be731052",
   "metadata": {},
   "outputs": [
    {
     "data": {
      "text/plain": [
       "0.0       5587\n",
       "NaN        208\n",
       "1.0        153\n",
       "2.0         80\n",
       "3.0         59\n",
       "          ... \n",
       "3627.0       1\n",
       "2074.0       1\n",
       "871.0        1\n",
       "742.0        1\n",
       "1872.0       1\n",
       "Name: ShoppingMall, Length: 1116, dtype: int64"
      ]
     },
     "execution_count": 194,
     "metadata": {},
     "output_type": "execute_result"
    }
   ],
   "source": [
    "train_df['ShoppingMall'].value_counts(dropna=False)"
   ]
  },
  {
   "cell_type": "code",
   "execution_count": 195,
   "id": "f5c6ea65",
   "metadata": {},
   "outputs": [],
   "source": [
    "train_df['ShoppingMall'] = train_df['ShoppingMall'].fillna(train_df['ShoppingMall'].mean())"
   ]
  },
  {
   "cell_type": "code",
   "execution_count": 196,
   "id": "1fcbda1f",
   "metadata": {},
   "outputs": [
    {
     "data": {
      "text/plain": [
       "0.000000       5587\n",
       "173.729169      208\n",
       "1.000000        153\n",
       "2.000000         80\n",
       "3.000000         59\n",
       "               ... \n",
       "3627.000000       1\n",
       "2074.000000       1\n",
       "871.000000        1\n",
       "742.000000        1\n",
       "1872.000000       1\n",
       "Name: ShoppingMall, Length: 1116, dtype: int64"
      ]
     },
     "execution_count": 196,
     "metadata": {},
     "output_type": "execute_result"
    }
   ],
   "source": [
    "train_df['ShoppingMall'].value_counts(dropna=False)"
   ]
  },
  {
   "cell_type": "markdown",
   "id": "6d356c60",
   "metadata": {},
   "source": [
    "### VRDeck"
   ]
  },
  {
   "cell_type": "code",
   "execution_count": 197,
   "id": "781a5a82",
   "metadata": {},
   "outputs": [
    {
     "data": {
      "text/plain": [
       "0.0       5495\n",
       "NaN        188\n",
       "1.0        139\n",
       "2.0         70\n",
       "3.0         56\n",
       "          ... \n",
       "297.0        1\n",
       "1788.0       1\n",
       "1113.0       1\n",
       "9244.0       1\n",
       "3235.0       1\n",
       "Name: VRDeck, Length: 1307, dtype: int64"
      ]
     },
     "execution_count": 197,
     "metadata": {},
     "output_type": "execute_result"
    }
   ],
   "source": [
    "train_df['VRDeck'].value_counts(dropna=False)"
   ]
  },
  {
   "cell_type": "code",
   "execution_count": 198,
   "id": "c25ecda2",
   "metadata": {},
   "outputs": [],
   "source": [
    "train_df['VRDeck'] = train_df['VRDeck'].fillna(train_df['VRDeck'].mean())"
   ]
  },
  {
   "cell_type": "markdown",
   "id": "faee57ba",
   "metadata": {},
   "source": [
    "### FoodCourt"
   ]
  },
  {
   "cell_type": "code",
   "execution_count": 199,
   "id": "30527f95",
   "metadata": {},
   "outputs": [
    {
     "data": {
      "text/plain": [
       "0.0       5456\n",
       "NaN        183\n",
       "1.0        116\n",
       "2.0         75\n",
       "3.0         53\n",
       "          ... \n",
       "3846.0       1\n",
       "5193.0       1\n",
       "312.0        1\n",
       "827.0        1\n",
       "4688.0       1\n",
       "Name: FoodCourt, Length: 1508, dtype: int64"
      ]
     },
     "execution_count": 199,
     "metadata": {},
     "output_type": "execute_result"
    }
   ],
   "source": [
    "train_df['FoodCourt'].value_counts(dropna=False)"
   ]
  },
  {
   "cell_type": "code",
   "execution_count": 200,
   "id": "aba68f24",
   "metadata": {},
   "outputs": [],
   "source": [
    "train_df['FoodCourt'] = train_df['FoodCourt'].fillna(train_df['FoodCourt'].median())"
   ]
  },
  {
   "cell_type": "markdown",
   "id": "c6e0944b",
   "metadata": {},
   "source": [
    "### Spa"
   ]
  },
  {
   "cell_type": "code",
   "execution_count": 201,
   "id": "847482f1",
   "metadata": {},
   "outputs": [
    {
     "data": {
      "text/plain": [
       "0.0       5324\n",
       "NaN        183\n",
       "1.0        146\n",
       "2.0        105\n",
       "3.0         53\n",
       "          ... \n",
       "273.0        1\n",
       "2581.0       1\n",
       "2948.0       1\n",
       "3778.0       1\n",
       "1643.0       1\n",
       "Name: Spa, Length: 1328, dtype: int64"
      ]
     },
     "execution_count": 201,
     "metadata": {},
     "output_type": "execute_result"
    }
   ],
   "source": [
    "train_df['Spa'].value_counts(dropna=False)"
   ]
  },
  {
   "cell_type": "code",
   "execution_count": 202,
   "id": "6081d58c",
   "metadata": {},
   "outputs": [],
   "source": [
    "train_df['Spa'] = train_df['Spa'].fillna(train_df['Spa'].mean())"
   ]
  },
  {
   "cell_type": "markdown",
   "id": "ed28ec15",
   "metadata": {},
   "source": [
    "### RoomService"
   ]
  },
  {
   "cell_type": "code",
   "execution_count": 203,
   "id": "a230a00f",
   "metadata": {},
   "outputs": [
    {
     "data": {
      "text/plain": [
       "0.0       5577\n",
       "NaN        181\n",
       "1.0        117\n",
       "2.0         79\n",
       "3.0         61\n",
       "          ... \n",
       "1612.0       1\n",
       "2598.0       1\n",
       "632.0        1\n",
       "378.0        1\n",
       "745.0        1\n",
       "Name: RoomService, Length: 1274, dtype: int64"
      ]
     },
     "execution_count": 203,
     "metadata": {},
     "output_type": "execute_result"
    }
   ],
   "source": [
    "train_df['RoomService'].value_counts(dropna=False)"
   ]
  },
  {
   "cell_type": "code",
   "execution_count": 204,
   "id": "bbc0a957",
   "metadata": {},
   "outputs": [],
   "source": [
    "train_df['RoomService'] = train_df['RoomService'].fillna(train_df['RoomService'].median())"
   ]
  },
  {
   "cell_type": "markdown",
   "id": "de9a5a59",
   "metadata": {},
   "source": [
    "### Age"
   ]
  },
  {
   "cell_type": "code",
   "execution_count": 205,
   "id": "df21700d",
   "metadata": {},
   "outputs": [
    {
     "data": {
      "text/plain": [
       "24.0    324\n",
       "18.0    320\n",
       "21.0    311\n",
       "19.0    293\n",
       "23.0    292\n",
       "       ... \n",
       "72.0      4\n",
       "78.0      3\n",
       "79.0      3\n",
       "76.0      2\n",
       "77.0      2\n",
       "Name: Age, Length: 81, dtype: int64"
      ]
     },
     "execution_count": 205,
     "metadata": {},
     "output_type": "execute_result"
    }
   ],
   "source": [
    "train_df['Age'].value_counts(dropna=False)"
   ]
  },
  {
   "cell_type": "code",
   "execution_count": 206,
   "id": "816c062b",
   "metadata": {},
   "outputs": [
    {
     "data": {
      "text/plain": [
       "179"
      ]
     },
     "execution_count": 206,
     "metadata": {},
     "output_type": "execute_result"
    }
   ],
   "source": [
    "train_df['Age'].isna().sum()"
   ]
  },
  {
   "cell_type": "code",
   "execution_count": 207,
   "id": "0e4774a6",
   "metadata": {},
   "outputs": [],
   "source": [
    "train_df['Age'] = train_df['Age'].fillna(train_df['Age'].mean())"
   ]
  },
  {
   "cell_type": "markdown",
   "id": "6447b44e",
   "metadata": {},
   "source": [
    "### VIP"
   ]
  },
  {
   "cell_type": "code",
   "execution_count": 212,
   "id": "bb7dafc4",
   "metadata": {},
   "outputs": [
    {
     "data": {
      "text/plain": [
       "203"
      ]
     },
     "execution_count": 212,
     "metadata": {},
     "output_type": "execute_result"
    }
   ],
   "source": [
    "train_df['VIP'].isna().sum()"
   ]
  },
  {
   "cell_type": "code",
   "execution_count": 213,
   "id": "7d464b31",
   "metadata": {},
   "outputs": [
    {
     "data": {
      "text/plain": [
       "0       False\n",
       "1       False\n",
       "2        True\n",
       "3       False\n",
       "4       False\n",
       "        ...  \n",
       "8688     True\n",
       "8689    False\n",
       "8690    False\n",
       "8691    False\n",
       "8692    False\n",
       "Name: VIP, Length: 8693, dtype: object"
      ]
     },
     "execution_count": 213,
     "metadata": {},
     "output_type": "execute_result"
    }
   ],
   "source": [
    "train_df['VIP']"
   ]
  },
  {
   "cell_type": "code",
   "execution_count": 215,
   "id": "28eb39ff",
   "metadata": {},
   "outputs": [
    {
     "data": {
      "text/plain": [
       "<AxesSubplot: xlabel='VIP', ylabel='Transported'>"
      ]
     },
     "execution_count": 215,
     "metadata": {},
     "output_type": "execute_result"
    },
    {
     "data": {
      "image/png": "[encoded data removed]",
      "text/plain": [
       "<Figure size 640x480 with 1 Axes>"
      ]
     },
     "metadata": {},
     "output_type": "display_data"
    }
   ],
   "source": [
    "import seaborn as sns\n",
    "sns.barplot(x = 'VIP', y = 'Transported', data = train_df)"
   ]
  },
  {
   "cell_type": "code",
   "execution_count": 217,
   "id": "82f79766",
   "metadata": {},
   "outputs": [],
   "source": [
    "train_df['VIP'] = train_df['VIP'].fillna(0)\n",
    "train_df[\"VIP\"] = train_df[\"VIP\"].astype(int)"
   ]
  },
  {
   "cell_type": "code",
   "execution_count": 218,
   "id": "a2ba1a88",
   "metadata": {},
   "outputs": [
    {
     "data": {
      "text/plain": [
       "0    8494\n",
       "1     199\n",
       "Name: VIP, dtype: int64"
      ]
     },
     "execution_count": 218,
     "metadata": {},
     "output_type": "execute_result"
    }
   ],
   "source": [
    "train_df['VIP'].value_counts(dropna=False)"
   ]
  },
  {
   "cell_type": "markdown",
   "id": "b6426c91",
   "metadata": {},
   "source": [
    "VIP일수록 transported 될 확률이 높다고 판단했지만, 그렇지 않았음."
   ]
  },
  {
   "cell_type": "markdown",
   "id": "765ecc45",
   "metadata": {},
   "source": [
    "### 결측치 처리 끝"
   ]
  },
  {
   "cell_type": "code",
   "execution_count": 219,
   "id": "9bc2a1de",
   "metadata": {},
   "outputs": [
    {
     "data": {
      "text/plain": [
       "HomePlanet      0\n",
       "CryoSleep       0\n",
       "Cabin           0\n",
       "Destination     0\n",
       "Age             0\n",
       "VIP             0\n",
       "RoomService     0\n",
       "FoodCourt       0\n",
       "ShoppingMall    0\n",
       "Spa             0\n",
       "VRDeck          0\n",
       "Transported     0\n",
       "Cab_type        0\n",
       "Cab_room        0\n",
       "Cab_ps          0\n",
       "dtype: int64"
      ]
     },
     "execution_count": 219,
     "metadata": {},
     "output_type": "execute_result"
    }
   ],
   "source": [
    "train_df.isnull().sum()"
   ]
  },
  {
   "cell_type": "code",
   "execution_count": 220,
   "id": "221286cd",
   "metadata": {},
   "outputs": [],
   "source": [
    "train_df = train_df.drop('Cabin', axis = 1)"
   ]
  },
  {
   "cell_type": "code",
   "execution_count": 221,
   "id": "baf1b78c",
   "metadata": {},
   "outputs": [
    {
     "data": {
      "text/plain": [
       "HomePlanet      0\n",
       "CryoSleep       0\n",
       "Destination     0\n",
       "Age             0\n",
       "VIP             0\n",
       "RoomService     0\n",
       "FoodCourt       0\n",
       "ShoppingMall    0\n",
       "Spa             0\n",
       "VRDeck          0\n",
       "Transported     0\n",
       "Cab_type        0\n",
       "Cab_room        0\n",
       "Cab_ps          0\n",
       "dtype: int64"
      ]
     },
     "execution_count": 221,
     "metadata": {},
     "output_type": "execute_result"
    }
   ],
   "source": [
    "train_df.isnull().sum()"
   ]
  },
  {
   "cell_type": "markdown",
   "id": "edbbf1d9",
   "metadata": {},
   "source": [
    "## 원핫인코딩"
   ]
  },
  {
   "cell_type": "code",
   "execution_count": 222,
   "id": "6781459c",
   "metadata": {},
   "outputs": [
    {
     "data": {
      "text/html": [
       "<div>\n",
       "<style scoped>\n",
       "    .dataframe tbody tr th:only-of-type {\n",
       "        vertical-align: middle;\n",
       "    }\n",
       "\n",
       "    .dataframe tbody tr th {\n",
       "        vertical-align: top;\n",
       "    }\n",
       "\n",
       "    .dataframe thead th {\n",
       "        text-align: right;\n",
       "    }\n",
       "</style>\n",
       "<table border=\"1\" class=\"dataframe\">\n",
       "  <thead>\n",
       "    <tr style=\"text-align: right;\">\n",
       "      <th></th>\n",
       "      <th>Age</th>\n",
       "      <th>VIP</th>\n",
       "      <th>RoomService</th>\n",
       "      <th>FoodCourt</th>\n",
       "      <th>ShoppingMall</th>\n",
       "      <th>Spa</th>\n",
       "      <th>VRDeck</th>\n",
       "      <th>Cab_room</th>\n",
       "      <th>HomePlanet_Earth</th>\n",
       "      <th>HomePlanet_Europa</th>\n",
       "      <th>...</th>\n",
       "      <th>Cab_type_A</th>\n",
       "      <th>Cab_type_B</th>\n",
       "      <th>Cab_type_C</th>\n",
       "      <th>Cab_type_D</th>\n",
       "      <th>Cab_type_E</th>\n",
       "      <th>Cab_type_F</th>\n",
       "      <th>Cab_type_G</th>\n",
       "      <th>Cab_type_T</th>\n",
       "      <th>Cab_ps_P</th>\n",
       "      <th>Cab_ps_S</th>\n",
       "    </tr>\n",
       "  </thead>\n",
       "  <tbody>\n",
       "    <tr>\n",
       "      <th>0</th>\n",
       "      <td>39.0</td>\n",
       "      <td>0</td>\n",
       "      <td>0.0</td>\n",
       "      <td>0.0</td>\n",
       "      <td>0.0</td>\n",
       "      <td>0.0</td>\n",
       "      <td>0.0</td>\n",
       "      <td>0.0</td>\n",
       "      <td>0</td>\n",
       "      <td>1</td>\n",
       "      <td>...</td>\n",
       "      <td>0</td>\n",
       "      <td>1</td>\n",
       "      <td>0</td>\n",
       "      <td>0</td>\n",
       "      <td>0</td>\n",
       "      <td>0</td>\n",
       "      <td>0</td>\n",
       "      <td>0</td>\n",
       "      <td>1</td>\n",
       "      <td>0</td>\n",
       "    </tr>\n",
       "    <tr>\n",
       "      <th>1</th>\n",
       "      <td>24.0</td>\n",
       "      <td>0</td>\n",
       "      <td>109.0</td>\n",
       "      <td>9.0</td>\n",
       "      <td>25.0</td>\n",
       "      <td>549.0</td>\n",
       "      <td>44.0</td>\n",
       "      <td>0.0</td>\n",
       "      <td>1</td>\n",
       "      <td>0</td>\n",
       "      <td>...</td>\n",
       "      <td>0</td>\n",
       "      <td>0</td>\n",
       "      <td>0</td>\n",
       "      <td>0</td>\n",
       "      <td>0</td>\n",
       "      <td>1</td>\n",
       "      <td>0</td>\n",
       "      <td>0</td>\n",
       "      <td>0</td>\n",
       "      <td>1</td>\n",
       "    </tr>\n",
       "    <tr>\n",
       "      <th>2</th>\n",
       "      <td>58.0</td>\n",
       "      <td>1</td>\n",
       "      <td>43.0</td>\n",
       "      <td>3576.0</td>\n",
       "      <td>0.0</td>\n",
       "      <td>6715.0</td>\n",
       "      <td>49.0</td>\n",
       "      <td>0.0</td>\n",
       "      <td>0</td>\n",
       "      <td>1</td>\n",
       "      <td>...</td>\n",
       "      <td>1</td>\n",
       "      <td>0</td>\n",
       "      <td>0</td>\n",
       "      <td>0</td>\n",
       "      <td>0</td>\n",
       "      <td>0</td>\n",
       "      <td>0</td>\n",
       "      <td>0</td>\n",
       "      <td>0</td>\n",
       "      <td>1</td>\n",
       "    </tr>\n",
       "    <tr>\n",
       "      <th>3</th>\n",
       "      <td>33.0</td>\n",
       "      <td>0</td>\n",
       "      <td>0.0</td>\n",
       "      <td>1283.0</td>\n",
       "      <td>371.0</td>\n",
       "      <td>3329.0</td>\n",
       "      <td>193.0</td>\n",
       "      <td>0.0</td>\n",
       "      <td>0</td>\n",
       "      <td>1</td>\n",
       "      <td>...</td>\n",
       "      <td>1</td>\n",
       "      <td>0</td>\n",
       "      <td>0</td>\n",
       "      <td>0</td>\n",
       "      <td>0</td>\n",
       "      <td>0</td>\n",
       "      <td>0</td>\n",
       "      <td>0</td>\n",
       "      <td>0</td>\n",
       "      <td>1</td>\n",
       "    </tr>\n",
       "    <tr>\n",
       "      <th>4</th>\n",
       "      <td>16.0</td>\n",
       "      <td>0</td>\n",
       "      <td>303.0</td>\n",
       "      <td>70.0</td>\n",
       "      <td>151.0</td>\n",
       "      <td>565.0</td>\n",
       "      <td>2.0</td>\n",
       "      <td>1.0</td>\n",
       "      <td>1</td>\n",
       "      <td>0</td>\n",
       "      <td>...</td>\n",
       "      <td>0</td>\n",
       "      <td>0</td>\n",
       "      <td>0</td>\n",
       "      <td>0</td>\n",
       "      <td>0</td>\n",
       "      <td>1</td>\n",
       "      <td>0</td>\n",
       "      <td>0</td>\n",
       "      <td>0</td>\n",
       "      <td>1</td>\n",
       "    </tr>\n",
       "    <tr>\n",
       "      <th>...</th>\n",
       "      <td>...</td>\n",
       "      <td>...</td>\n",
       "      <td>...</td>\n",
       "      <td>...</td>\n",
       "      <td>...</td>\n",
       "      <td>...</td>\n",
       "      <td>...</td>\n",
       "      <td>...</td>\n",
       "      <td>...</td>\n",
       "      <td>...</td>\n",
       "      <td>...</td>\n",
       "      <td>...</td>\n",
       "      <td>...</td>\n",
       "      <td>...</td>\n",
       "      <td>...</td>\n",
       "      <td>...</td>\n",
       "      <td>...</td>\n",
       "      <td>...</td>\n",
       "      <td>...</td>\n",
       "      <td>...</td>\n",
       "      <td>...</td>\n",
       "    </tr>\n",
       "    <tr>\n",
       "      <th>8688</th>\n",
       "      <td>41.0</td>\n",
       "      <td>1</td>\n",
       "      <td>0.0</td>\n",
       "      <td>6819.0</td>\n",
       "      <td>0.0</td>\n",
       "      <td>1643.0</td>\n",
       "      <td>74.0</td>\n",
       "      <td>98.0</td>\n",
       "      <td>0</td>\n",
       "      <td>1</td>\n",
       "      <td>...</td>\n",
       "      <td>1</td>\n",
       "      <td>0</td>\n",
       "      <td>0</td>\n",
       "      <td>0</td>\n",
       "      <td>0</td>\n",
       "      <td>0</td>\n",
       "      <td>0</td>\n",
       "      <td>0</td>\n",
       "      <td>1</td>\n",
       "      <td>0</td>\n",
       "    </tr>\n",
       "    <tr>\n",
       "      <th>8689</th>\n",
       "      <td>18.0</td>\n",
       "      <td>0</td>\n",
       "      <td>0.0</td>\n",
       "      <td>0.0</td>\n",
       "      <td>0.0</td>\n",
       "      <td>0.0</td>\n",
       "      <td>0.0</td>\n",
       "      <td>1499.0</td>\n",
       "      <td>1</td>\n",
       "      <td>0</td>\n",
       "      <td>...</td>\n",
       "      <td>0</td>\n",
       "      <td>0</td>\n",
       "      <td>0</td>\n",
       "      <td>0</td>\n",
       "      <td>0</td>\n",
       "      <td>0</td>\n",
       "      <td>1</td>\n",
       "      <td>0</td>\n",
       "      <td>0</td>\n",
       "      <td>1</td>\n",
       "    </tr>\n",
       "    <tr>\n",
       "      <th>8690</th>\n",
       "      <td>26.0</td>\n",
       "      <td>0</td>\n",
       "      <td>0.0</td>\n",
       "      <td>0.0</td>\n",
       "      <td>1872.0</td>\n",
       "      <td>1.0</td>\n",
       "      <td>0.0</td>\n",
       "      <td>1500.0</td>\n",
       "      <td>1</td>\n",
       "      <td>0</td>\n",
       "      <td>...</td>\n",
       "      <td>0</td>\n",
       "      <td>0</td>\n",
       "      <td>0</td>\n",
       "      <td>0</td>\n",
       "      <td>0</td>\n",
       "      <td>0</td>\n",
       "      <td>1</td>\n",
       "      <td>0</td>\n",
       "      <td>0</td>\n",
       "      <td>1</td>\n",
       "    </tr>\n",
       "    <tr>\n",
       "      <th>8691</th>\n",
       "      <td>32.0</td>\n",
       "      <td>0</td>\n",
       "      <td>0.0</td>\n",
       "      <td>1049.0</td>\n",
       "      <td>0.0</td>\n",
       "      <td>353.0</td>\n",
       "      <td>3235.0</td>\n",
       "      <td>608.0</td>\n",
       "      <td>0</td>\n",
       "      <td>1</td>\n",
       "      <td>...</td>\n",
       "      <td>0</td>\n",
       "      <td>0</td>\n",
       "      <td>0</td>\n",
       "      <td>0</td>\n",
       "      <td>1</td>\n",
       "      <td>0</td>\n",
       "      <td>0</td>\n",
       "      <td>0</td>\n",
       "      <td>0</td>\n",
       "      <td>1</td>\n",
       "    </tr>\n",
       "    <tr>\n",
       "      <th>8692</th>\n",
       "      <td>44.0</td>\n",
       "      <td>0</td>\n",
       "      <td>126.0</td>\n",
       "      <td>4688.0</td>\n",
       "      <td>0.0</td>\n",
       "      <td>0.0</td>\n",
       "      <td>12.0</td>\n",
       "      <td>608.0</td>\n",
       "      <td>0</td>\n",
       "      <td>1</td>\n",
       "      <td>...</td>\n",
       "      <td>0</td>\n",
       "      <td>0</td>\n",
       "      <td>0</td>\n",
       "      <td>0</td>\n",
       "      <td>1</td>\n",
       "      <td>0</td>\n",
       "      <td>0</td>\n",
       "      <td>0</td>\n",
       "      <td>0</td>\n",
       "      <td>1</td>\n",
       "    </tr>\n",
       "  </tbody>\n",
       "</table>\n",
       "<p>8693 rows × 26 columns</p>\n",
       "</div>"
      ],
      "text/plain": [
       "       Age  VIP  RoomService  FoodCourt  ShoppingMall     Spa  VRDeck  \\\n",
       "0     39.0    0          0.0        0.0           0.0     0.0     0.0   \n",
       "1     24.0    0        109.0        9.0          25.0   549.0    44.0   \n",
       "2     58.0    1         43.0     3576.0           0.0  6715.0    49.0   \n",
       "3     33.0    0          0.0     1283.0         371.0  3329.0   193.0   \n",
       "4     16.0    0        303.0       70.0         151.0   565.0     2.0   \n",
       "...    ...  ...          ...        ...           ...     ...     ...   \n",
       "8688  41.0    1          0.0     6819.0           0.0  1643.0    74.0   \n",
       "8689  18.0    0          0.0        0.0           0.0     0.0     0.0   \n",
       "8690  26.0    0          0.0        0.0        1872.0     1.0     0.0   \n",
       "8691  32.0    0          0.0     1049.0           0.0   353.0  3235.0   \n",
       "8692  44.0    0        126.0     4688.0           0.0     0.0    12.0   \n",
       "\n",
       "      Cab_room  HomePlanet_Earth  HomePlanet_Europa  ...  Cab_type_A  \\\n",
       "0          0.0                 0                  1  ...           0   \n",
       "1          0.0                 1                  0  ...           0   \n",
       "2          0.0                 0                  1  ...           1   \n",
       "3          0.0                 0                  1  ...           1   \n",
       "4          1.0                 1                  0  ...           0   \n",
       "...        ...               ...                ...  ...         ...   \n",
       "8688      98.0                 0                  1  ...           1   \n",
       "8689    1499.0                 1                  0  ...           0   \n",
       "8690    1500.0                 1                  0  ...           0   \n",
       "8691     608.0                 0                  1  ...           0   \n",
       "8692     608.0                 0                  1  ...           0   \n",
       "\n",
       "      Cab_type_B  Cab_type_C  Cab_type_D  Cab_type_E  Cab_type_F  Cab_type_G  \\\n",
       "0              1           0           0           0           0           0   \n",
       "1              0           0           0           0           1           0   \n",
       "2              0           0           0           0           0           0   \n",
       "3              0           0           0           0           0           0   \n",
       "4              0           0           0           0           1           0   \n",
       "...          ...         ...         ...         ...         ...         ...   \n",
       "8688           0           0           0           0           0           0   \n",
       "8689           0           0           0           0           0           1   \n",
       "8690           0           0           0           0           0           1   \n",
       "8691           0           0           0           1           0           0   \n",
       "8692           0           0           0           1           0           0   \n",
       "\n",
       "      Cab_type_T  Cab_ps_P  Cab_ps_S  \n",
       "0              0         1         0  \n",
       "1              0         0         1  \n",
       "2              0         0         1  \n",
       "3              0         0         1  \n",
       "4              0         0         1  \n",
       "...          ...       ...       ...  \n",
       "8688           0         1         0  \n",
       "8689           0         0         1  \n",
       "8690           0         0         1  \n",
       "8691           0         0         1  \n",
       "8692           0         0         1  \n",
       "\n",
       "[8693 rows x 26 columns]"
      ]
     },
     "execution_count": 222,
     "metadata": {},
     "output_type": "execute_result"
    }
   ],
   "source": [
    "train_df = train_df.drop(['Transported'], axis = 1)\n",
    "train_df = pd.get_dummies(train_df)\n",
    "train_df"
   ]
  },
  {
   "cell_type": "code",
   "execution_count": null,
   "id": "8a37f771",
   "metadata": {},
   "outputs": [],
   "source": []
  }
 ],
 "metadata": {
  "kernelspec": {
   "display_name": "Python 3 (ipykernel)",
   "language": "python",
   "name": "python3"
  },
  "language_info": {
   "codemirror_mode": {
    "name": "ipython",
    "version": 3
   },
   "file_extension": ".py",
   "mimetype": "text/x-python",
   "name": "python",
   "nbconvert_exporter": "python",
   "pygments_lexer": "ipython3",
   "version": "3.9.16"
  }
 },
 "nbformat": 4,
 "nbformat_minor": 5
}
