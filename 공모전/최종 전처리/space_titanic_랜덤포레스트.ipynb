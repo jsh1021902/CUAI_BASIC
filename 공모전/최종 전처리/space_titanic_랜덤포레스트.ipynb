{
 "cells": [
  {
   "cell_type": "code",
   "execution_count": 24,
   "id": "82c8d681",
   "metadata": {},
   "outputs": [
    {
     "name": "stdout",
     "output_type": "stream",
     "text": [
      "학습 데이터 레이블 값 비율\n",
      "1    50.369762\n",
      "0    49.630238\n",
      "Name: Transported, dtype: float64\n",
      "테스트 데이터 레이블 값 비율\n",
      "1    50.345092\n",
      "0    49.654908\n",
      "Name: Transported, dtype: float64\n"
     ]
    }
   ],
   "source": [
    "#https://www.kaggle.com/code/grvychuck/spaceship-titanic-randomforest\n",
    "\n",
    "import pandas as pd\n",
    "import numpy as np\n",
    "from sklearn.datasets import load_breast_cancer\n",
    "from sklearn.model_selection import train_test_split\n",
    "import warnings\n",
    "\n",
    "\n",
    "final = 'final_space.csv'\n",
    "df = pd.read_csv(final)\n",
    "submit = pd.read_csv('Age_test.csv')\n",
    "\n",
    "x =df.drop(['PassengerId', 'Transported'], axis=1)\n",
    "y =df['Transported']\n",
    "\n",
    "def get_train_test_dataset(df=None):\n",
    "    df_copy = df.copy()\n",
    "\n",
    "\n",
    "    # train_test_split( )으로 학습과 테스트 데이터 분할.\n",
    "    X_train, X_test, y_train, y_test = \\\n",
    "    train_test_split(x,y,test_size=0.3, random_state=0, stratify=y)\n",
    "\n",
    "    return X_train, X_test, y_train, y_test\n",
    "\n",
    "\n",
    "\n",
    "\n",
    "X_train, X_test, y_train, y_test = get_train_test_dataset(df)\n",
    "print('학습 데이터 레이블 값 비율')\n",
    "\n",
    "print(y_train.value_counts()/y_train.shape[0] * 100)\n",
    "print('테스트 데이터 레이블 값 비율')\n",
    "print(y_test.value_counts()/y_test.shape[0] * 100)"
   ]
  },
  {
   "cell_type": "code",
   "execution_count": 25,
   "id": "00f842cf",
   "metadata": {},
   "outputs": [],
   "source": [
    "\n",
    "from sklearn.model_selection import GridSearchCV"
   ]
  },
  {
   "cell_type": "code",
   "execution_count": 26,
   "id": "f1c63ac2",
   "metadata": {},
   "outputs": [
    {
     "name": "stdout",
     "output_type": "stream",
     "text": [
      "랜덤 포레스트 정확도: 0.7926\n"
     ]
    }
   ],
   "source": [
    "from sklearn.ensemble import RandomForestClassifier\n",
    "from sklearn.metrics import accuracy_score\n",
    "import pandas as pd\n",
    "import warnings\n",
    "warnings.filterwarnings('ignore')\n",
    "\n",
    "\n",
    "# 랜덤 포레스트 학습 및 별도의 테스트 셋으로 예측 성능 평가\n",
    "\n",
    "\n",
    "\n",
    "rf_clf = RandomForestClassifier(random_state=0)\n",
    "rf_clf.fit(X_train , y_train)\n",
    "pred = rf_clf.predict(X_test)\n",
    "accuracy = accuracy_score(y_test , pred)\n",
    "print('랜덤 포레스트 정확도: {0:.4f}'.format(accuracy))"
   ]
  },
  {
   "cell_type": "code",
   "execution_count": 27,
   "id": "d936ef2f",
   "metadata": {
    "scrolled": true
   },
   "outputs": [
    {
     "name": "stdout",
     "output_type": "stream",
     "text": [
      "최적 하이퍼 파라미터:\n",
      " {'max_depth': 14, 'min_samples_leaf': 8, 'min_samples_split': 3, 'n_estimators': 110}\n",
      "최고 예측 정확도: 0.8067\n"
     ]
    }
   ],
   "source": [
    "params = {\n",
    "    'n_estimators':[100,110],\n",
    "    'max_depth' : [8, 10, 12,14], \n",
    "    'min_samples_leaf' : [4,6,8],\n",
    "    'min_samples_split' : [3,4,5]\n",
    "}\n",
    "# RandomForestClassifier 객체 생성 후 GridSearchCV 수행\n",
    "rf_clf = RandomForestClassifier(random_state=0, n_jobs=-1)\n",
    "grid_cv = GridSearchCV(rf_clf , param_grid=params , cv=4, n_jobs=-1 )\n",
    "grid_cv.fit(X_train , y_train)\n",
    "\n",
    "print('최적 하이퍼 파라미터:\\n', grid_cv.best_params_)\n",
    "print('최고 예측 정확도: {0:.4f}'.format(grid_cv.best_score_))"
   ]
  },
  {
   "cell_type": "code",
   "execution_count": 28,
   "id": "e71df259",
   "metadata": {},
   "outputs": [],
   "source": [
    "for dataset in [submit]:\n",
    "   \n",
    "    dataset['RoomService'] = dataset['RoomService'].fillna(dataset['RoomService'].median())\n",
    "    dataset['FoodCourt'] = dataset['FoodCourt'].fillna(dataset['FoodCourt'].median())\n",
    "    dataset['Spa'] = dataset['Spa'].fillna(dataset['Spa'].median())\n",
    "    dataset['ShoppingMall'] = dataset['ShoppingMall'].fillna(dataset['ShoppingMall'].median())\n",
    "    dataset['VRDeck'] = dataset['VRDeck'].fillna(dataset['VRDeck'].median())\n",
    "    dataset['Cabin_number'] = dataset['Cabin_number'].fillna(dataset['Cabin_number'].median())"
   ]
  },
  {
   "cell_type": "code",
   "execution_count": 29,
   "id": "670e768c",
   "metadata": {
    "scrolled": true
   },
   "outputs": [],
   "source": [
    "\n",
    "\n",
    "model = RandomForestClassifier(n_estimators = 110, random_state=0, max_depth = 14, min_samples_leaf = 8, min_samples_split = 3, oob_score=True)\n",
    "X_test = submit.drop('PassengerId', axis=1)\n",
    "\n",
    "model.fit(X_train, y_train)\n",
    "submission2 = pd.DataFrame({\n",
    "        \"PassengerId\": submit[\"PassengerId\"],\n",
    "        \"Transported\": model.predict(X_test).astype('bool')\n",
    "    })\n",
    "\n",
    "submission2.to_csv('submission2.csv', index=False)"
   ]
  },
  {
   "cell_type": "code",
   "execution_count": null,
   "id": "96b654af",
   "metadata": {},
   "outputs": [],
   "source": []
  }
 ],
 "metadata": {
  "kernelspec": {
   "display_name": "Python 3 (ipykernel)",
   "language": "python",
   "name": "python3"
  },
  "language_info": {
   "codemirror_mode": {
    "name": "ipython",
    "version": 3
   },
   "file_extension": ".py",
   "mimetype": "text/x-python",
   "name": "python",
   "nbconvert_exporter": "python",
   "pygments_lexer": "ipython3",
   "version": "3.9.13"
  }
 },
 "nbformat": 4,
 "nbformat_minor": 5
}
