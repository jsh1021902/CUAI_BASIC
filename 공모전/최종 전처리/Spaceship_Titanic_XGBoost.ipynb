{
  "nbformat": 4,
  "nbformat_minor": 0,
  "metadata": {
    "colab": {
      "provenance": [],
      "machine_shape": "hm"
    },
    "kernelspec": {
      "name": "python3",
      "display_name": "Python 3"
    },
    "language_info": {
      "name": "python"
    },
    "accelerator": "TPU",
    "gpuClass": "standard"
  },
  "cells": [
    {
      "cell_type": "markdown",
      "source": [
        "## 1. Importing necessary libraries"
      ],
      "metadata": {
        "id": "et-7gUok4UIr"
      }
    },
    {
      "cell_type": "code",
      "execution_count": null,
      "metadata": {
        "colab": {
          "base_uri": "https://localhost:8080/"
        },
        "id": "j6rBygaJ36xJ",
        "outputId": "4ea99d95-0887-46da-9efd-fadfd4ae64af"
      },
      "outputs": [
        {
          "output_type": "stream",
          "name": "stdout",
          "text": [
            "Drive already mounted at /content/drive; to attempt to forcibly remount, call drive.mount(\"/content/drive\", force_remount=True).\n"
          ]
        }
      ],
      "source": [
        "# 구글 드라이브와 연결\n",
        "from google.colab import auth\n",
        "auth.authenticate_user()\n",
        "\n",
        "from google.colab import drive\n",
        "drive.mount('/content/drive')"
      ]
    },
    {
      "cell_type": "code",
      "source": [
        "from sklearn.impute import SimpleImputer\n",
        "from sklearn.preprocessing import OneHotEncoder\n",
        "from sklearn.metrics import mean_absolute_error\n",
        "import pandas as pd\n",
        "import numpy as np\n",
        "import base64\n",
        "import seaborn as sns\n",
        "import matplotlib.pyplot as plt\n",
        "import os\n",
        "import random\n",
        "import gc\n",
        "\n",
        "from sklearn.impute import SimpleImputer\n",
        "from sklearn.preprocessing import OneHotEncoder\n",
        "from sklearn.preprocessing import StandardScaler\n",
        "from sklearn.utils import shuffle\n",
        "from sklearn.model_selection import train_test_split\n",
        "from sklearn.utils import shuffle\n",
        "from sklearn.metrics import log_loss\n",
        "from sklearn.metrics import accuracy_score\n",
        "import xgboost as xgb\n",
        "from sklearn.model_selection import cross_val_score\n",
        "from sklearn.model_selection import StratifiedKFold\n",
        "\n",
        "pd.set_option('display.max_columns', None)   \n",
        "\n",
        "from sklearn.model_selection import train_test_split"
      ],
      "metadata": {
        "id": "kQR-iXSk4hQF"
      },
      "execution_count": null,
      "outputs": []
    },
    {
      "cell_type": "markdown",
      "source": [
        "## 2. Loading datasets"
      ],
      "metadata": {
        "id": "t1ax_6PVIYYv"
      }
    },
    {
      "cell_type": "code",
      "source": [
        "train = pd.read_csv('/content/drive/MyDrive/CUAI_BASIC/최종 모델링/Encoding_train.csv')\n",
        "sample = pd.read_csv('/content/drive/MyDrive/CUAI_BASIC/spaceship-titanic/sample_submission.csv')\n",
        "test = pd.read_csv('/content/drive/MyDrive/CUAI_BASIC/최종 모델링/Age_test.csv')\n",
        "#test = pd.read_csv('/content/drive/MyDrive/CUAI_BASIC/최종 모델링/NotEncoding_AgeGroup_test.csv')"
      ],
      "metadata": {
        "id": "AxxbPmZx4lbo"
      },
      "execution_count": null,
      "outputs": []
    },
    {
      "cell_type": "code",
      "source": [
        "train = pd.read_csv('/content/drive/MyDrive/CUAI_BASIC/최종 모델링/NotEncoding_train.csv')\n",
        "sample = pd.read_csv('/content/drive/MyDrive/CUAI_BASIC/spaceship-titanic/sample_submission.csv')\n",
        "test = pd.read_csv('/content/drive/MyDrive/CUAI_BASIC/최종 모델링/Age_test.csv')\n",
        "#test = pd.read_csv('/content/drive/MyDrive/CUAI_BASIC/최종 모델링/NotEncoding_AgeGroup_test.csv')"
      ],
      "metadata": {
        "id": "vAIEpO_7s7SI"
      },
      "execution_count": null,
      "outputs": []
    },
    {
      "cell_type": "code",
      "source": [
        "train.head()"
      ],
      "metadata": {
        "colab": {
          "base_uri": "https://localhost:8080/",
          "height": 288
        },
        "id": "prc3PFb540kZ",
        "outputId": "0d23390b-92a7-4672-e62b-c066e8d936e0"
      },
      "execution_count": null,
      "outputs": [
        {
          "output_type": "execute_result",
          "data": {
            "text/plain": [
              "   Unnamed: 0 PassengerId  Cabin_number   Age  RoomService  Age_group  \\\n",
              "0           0     0001_01             0  39.0          0.0  Age_31-50   \n",
              "1           1     0002_01             0  24.0        109.0  Age_18-25   \n",
              "2           2     0003_01             0  58.0         43.0    Age_51+   \n",
              "3           3     0003_02             0  33.0          0.0  Age_31-50   \n",
              "4           4     0004_01             1  16.0        303.0  Age_13-17   \n",
              "\n",
              "   FoodCourt  ShoppingMall     Spa  VRDeck  Transported  HomePlanet_Europa  \\\n",
              "0        0.0           0.0     0.0     0.0            0                  1   \n",
              "1        9.0          25.0   549.0    44.0            1                  0   \n",
              "2     3576.0           0.0  6715.0    49.0            0                  1   \n",
              "3     1283.0         371.0  3329.0   193.0            0                  1   \n",
              "4       70.0         151.0   565.0     2.0            1                  0   \n",
              "\n",
              "   HomePlanet_Mars  CryoSleep_True  Destination_PSO J318.5-22  \\\n",
              "0                0               0                          0   \n",
              "1                0               0                          0   \n",
              "2                0               0                          0   \n",
              "3                0               0                          0   \n",
              "4                0               0                          0   \n",
              "\n",
              "   Destination_TRAPPIST-1e  Cabin_deck_B  Cabin_deck_C  Cabin_deck_D  \\\n",
              "0                        1             1             0             0   \n",
              "1                        1             0             0             0   \n",
              "2                        1             0             0             0   \n",
              "3                        1             0             0             0   \n",
              "4                        1             0             0             0   \n",
              "\n",
              "   Cabin_deck_E  Cabin_deck_F  Cabin_deck_G  Cabin_deck_T  Cabin_side_S  \\\n",
              "0             0             0             0             0             0   \n",
              "1             0             1             0             0             1   \n",
              "2             0             0             0             0             1   \n",
              "3             0             0             0             0             1   \n",
              "4             0             1             0             0             1   \n",
              "\n",
              "   VIP_True  \n",
              "0         0  \n",
              "1         0  \n",
              "2         1  \n",
              "3         0  \n",
              "4         0  "
            ],
            "text/html": [
              "\n",
              "  <div id=\"df-47a1eae1-b1f6-4670-a65f-b3bc8fc137bd\">\n",
              "    <div class=\"colab-df-container\">\n",
              "      <div>\n",
              "<style scoped>\n",
              "    .dataframe tbody tr th:only-of-type {\n",
              "        vertical-align: middle;\n",
              "    }\n",
              "\n",
              "    .dataframe tbody tr th {\n",
              "        vertical-align: top;\n",
              "    }\n",
              "\n",
              "    .dataframe thead th {\n",
              "        text-align: right;\n",
              "    }\n",
              "</style>\n",
              "<table border=\"1\" class=\"dataframe\">\n",
              "  <thead>\n",
              "    <tr style=\"text-align: right;\">\n",
              "      <th></th>\n",
              "      <th>Unnamed: 0</th>\n",
              "      <th>PassengerId</th>\n",
              "      <th>Cabin_number</th>\n",
              "      <th>Age</th>\n",
              "      <th>RoomService</th>\n",
              "      <th>Age_group</th>\n",
              "      <th>FoodCourt</th>\n",
              "      <th>ShoppingMall</th>\n",
              "      <th>Spa</th>\n",
              "      <th>VRDeck</th>\n",
              "      <th>Transported</th>\n",
              "      <th>HomePlanet_Europa</th>\n",
              "      <th>HomePlanet_Mars</th>\n",
              "      <th>CryoSleep_True</th>\n",
              "      <th>Destination_PSO J318.5-22</th>\n",
              "      <th>Destination_TRAPPIST-1e</th>\n",
              "      <th>Cabin_deck_B</th>\n",
              "      <th>Cabin_deck_C</th>\n",
              "      <th>Cabin_deck_D</th>\n",
              "      <th>Cabin_deck_E</th>\n",
              "      <th>Cabin_deck_F</th>\n",
              "      <th>Cabin_deck_G</th>\n",
              "      <th>Cabin_deck_T</th>\n",
              "      <th>Cabin_side_S</th>\n",
              "      <th>VIP_True</th>\n",
              "    </tr>\n",
              "  </thead>\n",
              "  <tbody>\n",
              "    <tr>\n",
              "      <th>0</th>\n",
              "      <td>0</td>\n",
              "      <td>0001_01</td>\n",
              "      <td>0</td>\n",
              "      <td>39.0</td>\n",
              "      <td>0.0</td>\n",
              "      <td>Age_31-50</td>\n",
              "      <td>0.0</td>\n",
              "      <td>0.0</td>\n",
              "      <td>0.0</td>\n",
              "      <td>0.0</td>\n",
              "      <td>0</td>\n",
              "      <td>1</td>\n",
              "      <td>0</td>\n",
              "      <td>0</td>\n",
              "      <td>0</td>\n",
              "      <td>1</td>\n",
              "      <td>1</td>\n",
              "      <td>0</td>\n",
              "      <td>0</td>\n",
              "      <td>0</td>\n",
              "      <td>0</td>\n",
              "      <td>0</td>\n",
              "      <td>0</td>\n",
              "      <td>0</td>\n",
              "      <td>0</td>\n",
              "    </tr>\n",
              "    <tr>\n",
              "      <th>1</th>\n",
              "      <td>1</td>\n",
              "      <td>0002_01</td>\n",
              "      <td>0</td>\n",
              "      <td>24.0</td>\n",
              "      <td>109.0</td>\n",
              "      <td>Age_18-25</td>\n",
              "      <td>9.0</td>\n",
              "      <td>25.0</td>\n",
              "      <td>549.0</td>\n",
              "      <td>44.0</td>\n",
              "      <td>1</td>\n",
              "      <td>0</td>\n",
              "      <td>0</td>\n",
              "      <td>0</td>\n",
              "      <td>0</td>\n",
              "      <td>1</td>\n",
              "      <td>0</td>\n",
              "      <td>0</td>\n",
              "      <td>0</td>\n",
              "      <td>0</td>\n",
              "      <td>1</td>\n",
              "      <td>0</td>\n",
              "      <td>0</td>\n",
              "      <td>1</td>\n",
              "      <td>0</td>\n",
              "    </tr>\n",
              "    <tr>\n",
              "      <th>2</th>\n",
              "      <td>2</td>\n",
              "      <td>0003_01</td>\n",
              "      <td>0</td>\n",
              "      <td>58.0</td>\n",
              "      <td>43.0</td>\n",
              "      <td>Age_51+</td>\n",
              "      <td>3576.0</td>\n",
              "      <td>0.0</td>\n",
              "      <td>6715.0</td>\n",
              "      <td>49.0</td>\n",
              "      <td>0</td>\n",
              "      <td>1</td>\n",
              "      <td>0</td>\n",
              "      <td>0</td>\n",
              "      <td>0</td>\n",
              "      <td>1</td>\n",
              "      <td>0</td>\n",
              "      <td>0</td>\n",
              "      <td>0</td>\n",
              "      <td>0</td>\n",
              "      <td>0</td>\n",
              "      <td>0</td>\n",
              "      <td>0</td>\n",
              "      <td>1</td>\n",
              "      <td>1</td>\n",
              "    </tr>\n",
              "    <tr>\n",
              "      <th>3</th>\n",
              "      <td>3</td>\n",
              "      <td>0003_02</td>\n",
              "      <td>0</td>\n",
              "      <td>33.0</td>\n",
              "      <td>0.0</td>\n",
              "      <td>Age_31-50</td>\n",
              "      <td>1283.0</td>\n",
              "      <td>371.0</td>\n",
              "      <td>3329.0</td>\n",
              "      <td>193.0</td>\n",
              "      <td>0</td>\n",
              "      <td>1</td>\n",
              "      <td>0</td>\n",
              "      <td>0</td>\n",
              "      <td>0</td>\n",
              "      <td>1</td>\n",
              "      <td>0</td>\n",
              "      <td>0</td>\n",
              "      <td>0</td>\n",
              "      <td>0</td>\n",
              "      <td>0</td>\n",
              "      <td>0</td>\n",
              "      <td>0</td>\n",
              "      <td>1</td>\n",
              "      <td>0</td>\n",
              "    </tr>\n",
              "    <tr>\n",
              "      <th>4</th>\n",
              "      <td>4</td>\n",
              "      <td>0004_01</td>\n",
              "      <td>1</td>\n",
              "      <td>16.0</td>\n",
              "      <td>303.0</td>\n",
              "      <td>Age_13-17</td>\n",
              "      <td>70.0</td>\n",
              "      <td>151.0</td>\n",
              "      <td>565.0</td>\n",
              "      <td>2.0</td>\n",
              "      <td>1</td>\n",
              "      <td>0</td>\n",
              "      <td>0</td>\n",
              "      <td>0</td>\n",
              "      <td>0</td>\n",
              "      <td>1</td>\n",
              "      <td>0</td>\n",
              "      <td>0</td>\n",
              "      <td>0</td>\n",
              "      <td>0</td>\n",
              "      <td>1</td>\n",
              "      <td>0</td>\n",
              "      <td>0</td>\n",
              "      <td>1</td>\n",
              "      <td>0</td>\n",
              "    </tr>\n",
              "  </tbody>\n",
              "</table>\n",
              "</div>\n",
              "      <button class=\"colab-df-convert\" onclick=\"convertToInteractive('df-47a1eae1-b1f6-4670-a65f-b3bc8fc137bd')\"\n",
              "              title=\"Convert this dataframe to an interactive table.\"\n",
              "              style=\"display:none;\">\n",
              "        \n",
              "  <svg xmlns=\"http://www.w3.org/2000/svg\" height=\"24px\"viewBox=\"0 0 24 24\"\n",
              "       width=\"24px\">\n",
              "    <path d=\"M0 0h24v24H0V0z\" fill=\"none\"/>\n",
              "    <path d=\"M18.56 5.44l.94 2.06.94-2.06 2.06-.94-2.06-.94-.94-2.06-.94 2.06-2.06.94zm-11 1L8.5 8.5l.94-2.06 2.06-.94-2.06-.94L8.5 2.5l-.94 2.06-2.06.94zm10 10l.94 2.06.94-2.06 2.06-.94-2.06-.94-.94-2.06-.94 2.06-2.06.94z\"/><path d=\"M17.41 7.96l-1.37-1.37c-.4-.4-.92-.59-1.43-.59-.52 0-1.04.2-1.43.59L10.3 9.45l-7.72 7.72c-.78.78-.78 2.05 0 2.83L4 21.41c.39.39.9.59 1.41.59.51 0 1.02-.2 1.41-.59l7.78-7.78 2.81-2.81c.8-.78.8-2.07 0-2.86zM5.41 20L4 18.59l7.72-7.72 1.47 1.35L5.41 20z\"/>\n",
              "  </svg>\n",
              "      </button>\n",
              "      \n",
              "  <style>\n",
              "    .colab-df-container {\n",
              "      display:flex;\n",
              "      flex-wrap:wrap;\n",
              "      gap: 12px;\n",
              "    }\n",
              "\n",
              "    .colab-df-convert {\n",
              "      background-color: #E8F0FE;\n",
              "      border: none;\n",
              "      border-radius: 50%;\n",
              "      cursor: pointer;\n",
              "      display: none;\n",
              "      fill: #1967D2;\n",
              "      height: 32px;\n",
              "      padding: 0 0 0 0;\n",
              "      width: 32px;\n",
              "    }\n",
              "\n",
              "    .colab-df-convert:hover {\n",
              "      background-color: #E2EBFA;\n",
              "      box-shadow: 0px 1px 2px rgba(60, 64, 67, 0.3), 0px 1px 3px 1px rgba(60, 64, 67, 0.15);\n",
              "      fill: #174EA6;\n",
              "    }\n",
              "\n",
              "    [theme=dark] .colab-df-convert {\n",
              "      background-color: #3B4455;\n",
              "      fill: #D2E3FC;\n",
              "    }\n",
              "\n",
              "    [theme=dark] .colab-df-convert:hover {\n",
              "      background-color: #434B5C;\n",
              "      box-shadow: 0px 1px 3px 1px rgba(0, 0, 0, 0.15);\n",
              "      filter: drop-shadow(0px 1px 2px rgba(0, 0, 0, 0.3));\n",
              "      fill: #FFFFFF;\n",
              "    }\n",
              "  </style>\n",
              "\n",
              "      <script>\n",
              "        const buttonEl =\n",
              "          document.querySelector('#df-47a1eae1-b1f6-4670-a65f-b3bc8fc137bd button.colab-df-convert');\n",
              "        buttonEl.style.display =\n",
              "          google.colab.kernel.accessAllowed ? 'block' : 'none';\n",
              "\n",
              "        async function convertToInteractive(key) {\n",
              "          const element = document.querySelector('#df-47a1eae1-b1f6-4670-a65f-b3bc8fc137bd');\n",
              "          const dataTable =\n",
              "            await google.colab.kernel.invokeFunction('convertToInteractive',\n",
              "                                                     [key], {});\n",
              "          if (!dataTable) return;\n",
              "\n",
              "          const docLinkHtml = 'Like what you see? Visit the ' +\n",
              "            '<a target=\"_blank\" href=https://colab.research.google.com/notebooks/data_table.ipynb>data table notebook</a>'\n",
              "            + ' to learn more about interactive tables.';\n",
              "          element.innerHTML = '';\n",
              "          dataTable['output_type'] = 'display_data';\n",
              "          await google.colab.output.renderOutput(dataTable, element);\n",
              "          const docLink = document.createElement('div');\n",
              "          docLink.innerHTML = docLinkHtml;\n",
              "          element.appendChild(docLink);\n",
              "        }\n",
              "      </script>\n",
              "    </div>\n",
              "  </div>\n",
              "  "
            ]
          },
          "metadata": {},
          "execution_count": 23
        }
      ]
    },
    {
      "cell_type": "code",
      "source": [
        "train.shape"
      ],
      "metadata": {
        "colab": {
          "base_uri": "https://localhost:8080/"
        },
        "id": "ZS9SQYGR5hdN",
        "outputId": "fa0320ff-5626-40e7-9916-443a1aeb0251"
      },
      "execution_count": null,
      "outputs": [
        {
          "output_type": "execute_result",
          "data": {
            "text/plain": [
              "(8693, 25)"
            ]
          },
          "metadata": {},
          "execution_count": 24
        }
      ]
    },
    {
      "cell_type": "code",
      "source": [
        "print(train.info())"
      ],
      "metadata": {
        "colab": {
          "base_uri": "https://localhost:8080/"
        },
        "id": "muvQb0rtm8jY",
        "outputId": "d3b86565-9c72-46d3-f9d8-b7d55774b9fd"
      },
      "execution_count": null,
      "outputs": [
        {
          "output_type": "stream",
          "name": "stdout",
          "text": [
            "<class 'pandas.core.frame.DataFrame'>\n",
            "RangeIndex: 8693 entries, 0 to 8692\n",
            "Data columns (total 25 columns):\n",
            " #   Column                     Non-Null Count  Dtype  \n",
            "---  ------                     --------------  -----  \n",
            " 0   Unnamed: 0                 8693 non-null   int64  \n",
            " 1   PassengerId                8693 non-null   object \n",
            " 2   Cabin_number               8693 non-null   int64  \n",
            " 3   Age                        8693 non-null   float64\n",
            " 4   RoomService                8693 non-null   float64\n",
            " 5   Age_group                  8693 non-null   object \n",
            " 6   FoodCourt                  8693 non-null   float64\n",
            " 7   ShoppingMall               8693 non-null   float64\n",
            " 8   Spa                        8693 non-null   float64\n",
            " 9   VRDeck                     8693 non-null   float64\n",
            " 10  Transported                8693 non-null   int64  \n",
            " 11  HomePlanet_Europa          8693 non-null   int64  \n",
            " 12  HomePlanet_Mars            8693 non-null   int64  \n",
            " 13  CryoSleep_True             8693 non-null   int64  \n",
            " 14  Destination_PSO J318.5-22  8693 non-null   int64  \n",
            " 15  Destination_TRAPPIST-1e    8693 non-null   int64  \n",
            " 16  Cabin_deck_B               8693 non-null   int64  \n",
            " 17  Cabin_deck_C               8693 non-null   int64  \n",
            " 18  Cabin_deck_D               8693 non-null   int64  \n",
            " 19  Cabin_deck_E               8693 non-null   int64  \n",
            " 20  Cabin_deck_F               8693 non-null   int64  \n",
            " 21  Cabin_deck_G               8693 non-null   int64  \n",
            " 22  Cabin_deck_T               8693 non-null   int64  \n",
            " 23  Cabin_side_S               8693 non-null   int64  \n",
            " 24  VIP_True                   8693 non-null   int64  \n",
            "dtypes: float64(6), int64(17), object(2)\n",
            "memory usage: 1.7+ MB\n",
            "None\n"
          ]
        }
      ]
    },
    {
      "cell_type": "code",
      "source": [
        "test.head()"
      ],
      "metadata": {
        "colab": {
          "base_uri": "https://localhost:8080/",
          "height": 374
        },
        "id": "2cEikfWMFDCa",
        "outputId": "2294155a-8458-4f2a-c8de-96179ac58c00"
      },
      "execution_count": null,
      "outputs": [
        {
          "output_type": "execute_result",
          "data": {
            "text/plain": [
              "   Unnamed: 0 PassengerId   Age  RoomService  FoodCourt  ShoppingMall     Spa  \\\n",
              "0           0     0013_01  27.0          0.0        0.0           0.0     0.0   \n",
              "1           1     0018_01  19.0          0.0        9.0           0.0  2823.0   \n",
              "2           2     0019_01  31.0          0.0        0.0           0.0     0.0   \n",
              "3           3     0021_01  38.0          0.0     6652.0           0.0   181.0   \n",
              "4           4     0023_01  20.0         10.0        0.0         635.0     0.0   \n",
              "\n",
              "   VRDeck              Name  Cabin_number  HomePlanet_Europa  HomePlanet_Mars  \\\n",
              "0     0.0   Nelly Carsoning           3.0                  0                0   \n",
              "1     0.0    Lerome Peckers           4.0                  0                0   \n",
              "2     0.0   Sabih Unhearfus           0.0                  1                0   \n",
              "3   585.0  Meratz Caltilter           1.0                  1                0   \n",
              "4     0.0   Brence Harperez           5.0                  0                0   \n",
              "\n",
              "   CryoSleep_True  Destination_PSO J318.5-22  Destination_TRAPPIST-1e  \\\n",
              "0               1                          0                        1   \n",
              "1               0                          0                        1   \n",
              "2               1                          0                        0   \n",
              "3               0                          0                        1   \n",
              "4               0                          0                        1   \n",
              "\n",
              "   Cabin_deck_B  Cabin_deck_C  Cabin_deck_D  Cabin_deck_E  Cabin_deck_F  \\\n",
              "0             0             0             0             0             0   \n",
              "1             0             0             0             0             1   \n",
              "2             0             1             0             0             0   \n",
              "3             0             1             0             0             0   \n",
              "4             0             0             0             0             1   \n",
              "\n",
              "   Cabin_deck_G  Cabin_deck_T  Cabin_side_S  VIP_True  \n",
              "0             1             0             1         0  \n",
              "1             0             0             1         0  \n",
              "2             0             0             1         0  \n",
              "3             0             0             1         0  \n",
              "4             0             0             1         0  "
            ],
            "text/html": [
              "\n",
              "  <div id=\"df-d62d0673-e4aa-42d0-b781-1e79c164f137\">\n",
              "    <div class=\"colab-df-container\">\n",
              "      <div>\n",
              "<style scoped>\n",
              "    .dataframe tbody tr th:only-of-type {\n",
              "        vertical-align: middle;\n",
              "    }\n",
              "\n",
              "    .dataframe tbody tr th {\n",
              "        vertical-align: top;\n",
              "    }\n",
              "\n",
              "    .dataframe thead th {\n",
              "        text-align: right;\n",
              "    }\n",
              "</style>\n",
              "<table border=\"1\" class=\"dataframe\">\n",
              "  <thead>\n",
              "    <tr style=\"text-align: right;\">\n",
              "      <th></th>\n",
              "      <th>Unnamed: 0</th>\n",
              "      <th>PassengerId</th>\n",
              "      <th>Age</th>\n",
              "      <th>RoomService</th>\n",
              "      <th>FoodCourt</th>\n",
              "      <th>ShoppingMall</th>\n",
              "      <th>Spa</th>\n",
              "      <th>VRDeck</th>\n",
              "      <th>Name</th>\n",
              "      <th>Cabin_number</th>\n",
              "      <th>HomePlanet_Europa</th>\n",
              "      <th>HomePlanet_Mars</th>\n",
              "      <th>CryoSleep_True</th>\n",
              "      <th>Destination_PSO J318.5-22</th>\n",
              "      <th>Destination_TRAPPIST-1e</th>\n",
              "      <th>Cabin_deck_B</th>\n",
              "      <th>Cabin_deck_C</th>\n",
              "      <th>Cabin_deck_D</th>\n",
              "      <th>Cabin_deck_E</th>\n",
              "      <th>Cabin_deck_F</th>\n",
              "      <th>Cabin_deck_G</th>\n",
              "      <th>Cabin_deck_T</th>\n",
              "      <th>Cabin_side_S</th>\n",
              "      <th>VIP_True</th>\n",
              "    </tr>\n",
              "  </thead>\n",
              "  <tbody>\n",
              "    <tr>\n",
              "      <th>0</th>\n",
              "      <td>0</td>\n",
              "      <td>0013_01</td>\n",
              "      <td>27.0</td>\n",
              "      <td>0.0</td>\n",
              "      <td>0.0</td>\n",
              "      <td>0.0</td>\n",
              "      <td>0.0</td>\n",
              "      <td>0.0</td>\n",
              "      <td>Nelly Carsoning</td>\n",
              "      <td>3.0</td>\n",
              "      <td>0</td>\n",
              "      <td>0</td>\n",
              "      <td>1</td>\n",
              "      <td>0</td>\n",
              "      <td>1</td>\n",
              "      <td>0</td>\n",
              "      <td>0</td>\n",
              "      <td>0</td>\n",
              "      <td>0</td>\n",
              "      <td>0</td>\n",
              "      <td>1</td>\n",
              "      <td>0</td>\n",
              "      <td>1</td>\n",
              "      <td>0</td>\n",
              "    </tr>\n",
              "    <tr>\n",
              "      <th>1</th>\n",
              "      <td>1</td>\n",
              "      <td>0018_01</td>\n",
              "      <td>19.0</td>\n",
              "      <td>0.0</td>\n",
              "      <td>9.0</td>\n",
              "      <td>0.0</td>\n",
              "      <td>2823.0</td>\n",
              "      <td>0.0</td>\n",
              "      <td>Lerome Peckers</td>\n",
              "      <td>4.0</td>\n",
              "      <td>0</td>\n",
              "      <td>0</td>\n",
              "      <td>0</td>\n",
              "      <td>0</td>\n",
              "      <td>1</td>\n",
              "      <td>0</td>\n",
              "      <td>0</td>\n",
              "      <td>0</td>\n",
              "      <td>0</td>\n",
              "      <td>1</td>\n",
              "      <td>0</td>\n",
              "      <td>0</td>\n",
              "      <td>1</td>\n",
              "      <td>0</td>\n",
              "    </tr>\n",
              "    <tr>\n",
              "      <th>2</th>\n",
              "      <td>2</td>\n",
              "      <td>0019_01</td>\n",
              "      <td>31.0</td>\n",
              "      <td>0.0</td>\n",
              "      <td>0.0</td>\n",
              "      <td>0.0</td>\n",
              "      <td>0.0</td>\n",
              "      <td>0.0</td>\n",
              "      <td>Sabih Unhearfus</td>\n",
              "      <td>0.0</td>\n",
              "      <td>1</td>\n",
              "      <td>0</td>\n",
              "      <td>1</td>\n",
              "      <td>0</td>\n",
              "      <td>0</td>\n",
              "      <td>0</td>\n",
              "      <td>1</td>\n",
              "      <td>0</td>\n",
              "      <td>0</td>\n",
              "      <td>0</td>\n",
              "      <td>0</td>\n",
              "      <td>0</td>\n",
              "      <td>1</td>\n",
              "      <td>0</td>\n",
              "    </tr>\n",
              "    <tr>\n",
              "      <th>3</th>\n",
              "      <td>3</td>\n",
              "      <td>0021_01</td>\n",
              "      <td>38.0</td>\n",
              "      <td>0.0</td>\n",
              "      <td>6652.0</td>\n",
              "      <td>0.0</td>\n",
              "      <td>181.0</td>\n",
              "      <td>585.0</td>\n",
              "      <td>Meratz Caltilter</td>\n",
              "      <td>1.0</td>\n",
              "      <td>1</td>\n",
              "      <td>0</td>\n",
              "      <td>0</td>\n",
              "      <td>0</td>\n",
              "      <td>1</td>\n",
              "      <td>0</td>\n",
              "      <td>1</td>\n",
              "      <td>0</td>\n",
              "      <td>0</td>\n",
              "      <td>0</td>\n",
              "      <td>0</td>\n",
              "      <td>0</td>\n",
              "      <td>1</td>\n",
              "      <td>0</td>\n",
              "    </tr>\n",
              "    <tr>\n",
              "      <th>4</th>\n",
              "      <td>4</td>\n",
              "      <td>0023_01</td>\n",
              "      <td>20.0</td>\n",
              "      <td>10.0</td>\n",
              "      <td>0.0</td>\n",
              "      <td>635.0</td>\n",
              "      <td>0.0</td>\n",
              "      <td>0.0</td>\n",
              "      <td>Brence Harperez</td>\n",
              "      <td>5.0</td>\n",
              "      <td>0</td>\n",
              "      <td>0</td>\n",
              "      <td>0</td>\n",
              "      <td>0</td>\n",
              "      <td>1</td>\n",
              "      <td>0</td>\n",
              "      <td>0</td>\n",
              "      <td>0</td>\n",
              "      <td>0</td>\n",
              "      <td>1</td>\n",
              "      <td>0</td>\n",
              "      <td>0</td>\n",
              "      <td>1</td>\n",
              "      <td>0</td>\n",
              "    </tr>\n",
              "  </tbody>\n",
              "</table>\n",
              "</div>\n",
              "      <button class=\"colab-df-convert\" onclick=\"convertToInteractive('df-d62d0673-e4aa-42d0-b781-1e79c164f137')\"\n",
              "              title=\"Convert this dataframe to an interactive table.\"\n",
              "              style=\"display:none;\">\n",
              "        \n",
              "  <svg xmlns=\"http://www.w3.org/2000/svg\" height=\"24px\"viewBox=\"0 0 24 24\"\n",
              "       width=\"24px\">\n",
              "    <path d=\"M0 0h24v24H0V0z\" fill=\"none\"/>\n",
              "    <path d=\"M18.56 5.44l.94 2.06.94-2.06 2.06-.94-2.06-.94-.94-2.06-.94 2.06-2.06.94zm-11 1L8.5 8.5l.94-2.06 2.06-.94-2.06-.94L8.5 2.5l-.94 2.06-2.06.94zm10 10l.94 2.06.94-2.06 2.06-.94-2.06-.94-.94-2.06-.94 2.06-2.06.94z\"/><path d=\"M17.41 7.96l-1.37-1.37c-.4-.4-.92-.59-1.43-.59-.52 0-1.04.2-1.43.59L10.3 9.45l-7.72 7.72c-.78.78-.78 2.05 0 2.83L4 21.41c.39.39.9.59 1.41.59.51 0 1.02-.2 1.41-.59l7.78-7.78 2.81-2.81c.8-.78.8-2.07 0-2.86zM5.41 20L4 18.59l7.72-7.72 1.47 1.35L5.41 20z\"/>\n",
              "  </svg>\n",
              "      </button>\n",
              "      \n",
              "  <style>\n",
              "    .colab-df-container {\n",
              "      display:flex;\n",
              "      flex-wrap:wrap;\n",
              "      gap: 12px;\n",
              "    }\n",
              "\n",
              "    .colab-df-convert {\n",
              "      background-color: #E8F0FE;\n",
              "      border: none;\n",
              "      border-radius: 50%;\n",
              "      cursor: pointer;\n",
              "      display: none;\n",
              "      fill: #1967D2;\n",
              "      height: 32px;\n",
              "      padding: 0 0 0 0;\n",
              "      width: 32px;\n",
              "    }\n",
              "\n",
              "    .colab-df-convert:hover {\n",
              "      background-color: #E2EBFA;\n",
              "      box-shadow: 0px 1px 2px rgba(60, 64, 67, 0.3), 0px 1px 3px 1px rgba(60, 64, 67, 0.15);\n",
              "      fill: #174EA6;\n",
              "    }\n",
              "\n",
              "    [theme=dark] .colab-df-convert {\n",
              "      background-color: #3B4455;\n",
              "      fill: #D2E3FC;\n",
              "    }\n",
              "\n",
              "    [theme=dark] .colab-df-convert:hover {\n",
              "      background-color: #434B5C;\n",
              "      box-shadow: 0px 1px 3px 1px rgba(0, 0, 0, 0.15);\n",
              "      filter: drop-shadow(0px 1px 2px rgba(0, 0, 0, 0.3));\n",
              "      fill: #FFFFFF;\n",
              "    }\n",
              "  </style>\n",
              "\n",
              "      <script>\n",
              "        const buttonEl =\n",
              "          document.querySelector('#df-d62d0673-e4aa-42d0-b781-1e79c164f137 button.colab-df-convert');\n",
              "        buttonEl.style.display =\n",
              "          google.colab.kernel.accessAllowed ? 'block' : 'none';\n",
              "\n",
              "        async function convertToInteractive(key) {\n",
              "          const element = document.querySelector('#df-d62d0673-e4aa-42d0-b781-1e79c164f137');\n",
              "          const dataTable =\n",
              "            await google.colab.kernel.invokeFunction('convertToInteractive',\n",
              "                                                     [key], {});\n",
              "          if (!dataTable) return;\n",
              "\n",
              "          const docLinkHtml = 'Like what you see? Visit the ' +\n",
              "            '<a target=\"_blank\" href=https://colab.research.google.com/notebooks/data_table.ipynb>data table notebook</a>'\n",
              "            + ' to learn more about interactive tables.';\n",
              "          element.innerHTML = '';\n",
              "          dataTable['output_type'] = 'display_data';\n",
              "          await google.colab.output.renderOutput(dataTable, element);\n",
              "          const docLink = document.createElement('div');\n",
              "          docLink.innerHTML = docLinkHtml;\n",
              "          element.appendChild(docLink);\n",
              "        }\n",
              "      </script>\n",
              "    </div>\n",
              "  </div>\n",
              "  "
            ]
          },
          "metadata": {},
          "execution_count": 26
        }
      ]
    },
    {
      "cell_type": "code",
      "source": [
        "test.shape"
      ],
      "metadata": {
        "colab": {
          "base_uri": "https://localhost:8080/"
        },
        "id": "stupuwB7FHZc",
        "outputId": "ef5c599c-0e29-4ec3-e169-87b44edae18d"
      },
      "execution_count": null,
      "outputs": [
        {
          "output_type": "execute_result",
          "data": {
            "text/plain": [
              "(4277, 24)"
            ]
          },
          "metadata": {},
          "execution_count": 27
        }
      ]
    },
    {
      "cell_type": "code",
      "source": [
        "print(test.info())"
      ],
      "metadata": {
        "colab": {
          "base_uri": "https://localhost:8080/"
        },
        "id": "43hT9o6Ymnto",
        "outputId": "47761afb-b448-4a83-8464-5526a2f8ac04"
      },
      "execution_count": null,
      "outputs": [
        {
          "output_type": "stream",
          "name": "stdout",
          "text": [
            "<class 'pandas.core.frame.DataFrame'>\n",
            "RangeIndex: 4277 entries, 0 to 4276\n",
            "Data columns (total 24 columns):\n",
            " #   Column                     Non-Null Count  Dtype  \n",
            "---  ------                     --------------  -----  \n",
            " 0   Unnamed: 0                 4277 non-null   int64  \n",
            " 1   PassengerId                4277 non-null   object \n",
            " 2   Age                        4277 non-null   float64\n",
            " 3   RoomService                4195 non-null   float64\n",
            " 4   FoodCourt                  4171 non-null   float64\n",
            " 5   ShoppingMall               4179 non-null   float64\n",
            " 6   Spa                        4176 non-null   float64\n",
            " 7   VRDeck                     4197 non-null   float64\n",
            " 8   Name                       4183 non-null   object \n",
            " 9   Cabin_number               4177 non-null   float64\n",
            " 10  HomePlanet_Europa          4277 non-null   int64  \n",
            " 11  HomePlanet_Mars            4277 non-null   int64  \n",
            " 12  CryoSleep_True             4277 non-null   int64  \n",
            " 13  Destination_PSO J318.5-22  4277 non-null   int64  \n",
            " 14  Destination_TRAPPIST-1e    4277 non-null   int64  \n",
            " 15  Cabin_deck_B               4277 non-null   int64  \n",
            " 16  Cabin_deck_C               4277 non-null   int64  \n",
            " 17  Cabin_deck_D               4277 non-null   int64  \n",
            " 18  Cabin_deck_E               4277 non-null   int64  \n",
            " 19  Cabin_deck_F               4277 non-null   int64  \n",
            " 20  Cabin_deck_G               4277 non-null   int64  \n",
            " 21  Cabin_deck_T               4277 non-null   int64  \n",
            " 22  Cabin_side_S               4277 non-null   int64  \n",
            " 23  VIP_True                   4277 non-null   int64  \n",
            "dtypes: float64(7), int64(15), object(2)\n",
            "memory usage: 802.1+ KB\n",
            "None\n"
          ]
        }
      ]
    },
    {
      "cell_type": "markdown",
      "source": [
        "## 3. Preprocessing"
      ],
      "metadata": {
        "id": "-VySNtn8JJUL"
      }
    },
    {
      "cell_type": "code",
      "source": [
        "def get_score(model,X,y):\n",
        "    n = cross_val_score(model,X,y,scoring ='accuracy',cv=20)\n",
        "    return n"
      ],
      "metadata": {
        "id": "-3ZmeCAnJI6q"
      },
      "execution_count": null,
      "outputs": []
    },
    {
      "cell_type": "code",
      "source": [
        "# Best XGBoost hyperparams, found through 1000 Optuna trials\n",
        "params_XGB_best ={'lambda': 3.0610042624477543, \n",
        "             'alpha': 4.581902571574289, \n",
        "             'colsample_bytree': 0.9241969052729379, \n",
        "             'subsample': 0.9527591724824661, \n",
        "             'learning_rate': 0.06672065863100594, \n",
        "             'n_estimators': 725, #initial value is 651\n",
        "             'max_depth': 5, \n",
        "             'min_child_weight': 1, \n",
        "             'num_parallel_tree': 1}"
      ],
      "metadata": {
        "id": "4DJwUrsaJNVc"
      },
      "execution_count": null,
      "outputs": []
    },
    {
      "cell_type": "code",
      "source": [
        "train_test=train.append(test)"
      ],
      "metadata": {
        "colab": {
          "base_uri": "https://localhost:8080/"
        },
        "id": "SfdSV4FpKuSL",
        "outputId": "c28af133-9718-45f6-ea3c-2d6461c497b2"
      },
      "execution_count": null,
      "outputs": [
        {
          "output_type": "stream",
          "name": "stderr",
          "text": [
            "<ipython-input-31-d2734cde2921>:1: FutureWarning: The frame.append method is deprecated and will be removed from pandas in a future version. Use pandas.concat instead.\n",
            "  train_test=train.append(test)\n"
          ]
        }
      ]
    },
    {
      "cell_type": "code",
      "source": [
        "print(train_test.isnull().sum())\n",
        "sns.heatmap(train_test.isnull())"
      ],
      "metadata": {
        "colab": {
          "base_uri": "https://localhost:8080/",
          "height": 1000
        },
        "id": "3ToJB3A1KwZD",
        "outputId": "81189889-8f7d-49d0-a000-066d2cad1a71"
      },
      "execution_count": null,
      "outputs": [
        {
          "output_type": "stream",
          "name": "stdout",
          "text": [
            "Unnamed: 0                      0\n",
            "PassengerId                     0\n",
            "Cabin_number                  100\n",
            "Age                             0\n",
            "RoomService                    82\n",
            "Age_group                    4277\n",
            "FoodCourt                     106\n",
            "ShoppingMall                   98\n",
            "Spa                           101\n",
            "VRDeck                         80\n",
            "Transported                  4277\n",
            "HomePlanet_Europa               0\n",
            "HomePlanet_Mars                 0\n",
            "CryoSleep_True                  0\n",
            "Destination_PSO J318.5-22       0\n",
            "Destination_TRAPPIST-1e         0\n",
            "Cabin_deck_B                    0\n",
            "Cabin_deck_C                    0\n",
            "Cabin_deck_D                    0\n",
            "Cabin_deck_E                    0\n",
            "Cabin_deck_F                    0\n",
            "Cabin_deck_G                    0\n",
            "Cabin_deck_T                    0\n",
            "Cabin_side_S                    0\n",
            "VIP_True                        0\n",
            "Name                         8787\n",
            "dtype: int64\n"
          ]
        },
        {
          "output_type": "execute_result",
          "data": {
            "text/plain": [
              "<Axes: >"
            ]
          },
          "metadata": {},
          "execution_count": 32
        },
        {
          "output_type": "display_data",
          "data": {
            "text/plain": [
              "<Figure size 640x480 with 2 Axes>"
            ],
            "image/png": "[encoded data removed]"
          },
          "metadata": {}
        }
      ]
    },
    {
      "cell_type": "code",
      "source": [
        "print(train_test.info())"
      ],
      "metadata": {
        "colab": {
          "base_uri": "https://localhost:8080/"
        },
        "id": "Ljg8szFqoTYa",
        "outputId": "5b1dfcee-f4a8-4e7e-9f81-6b324117ee43"
      },
      "execution_count": null,
      "outputs": [
        {
          "output_type": "stream",
          "name": "stdout",
          "text": [
            "<class 'pandas.core.frame.DataFrame'>\n",
            "Int64Index: 12970 entries, 0 to 4276\n",
            "Data columns (total 26 columns):\n",
            " #   Column                     Non-Null Count  Dtype  \n",
            "---  ------                     --------------  -----  \n",
            " 0   Unnamed: 0                 12970 non-null  int64  \n",
            " 1   PassengerId                12970 non-null  object \n",
            " 2   Cabin_number               12870 non-null  float64\n",
            " 3   Age                        12970 non-null  float64\n",
            " 4   RoomService                12888 non-null  float64\n",
            " 5   Age_group                  8693 non-null   object \n",
            " 6   FoodCourt                  12864 non-null  float64\n",
            " 7   ShoppingMall               12872 non-null  float64\n",
            " 8   Spa                        12869 non-null  float64\n",
            " 9   VRDeck                     12890 non-null  float64\n",
            " 10  Transported                8693 non-null   float64\n",
            " 11  HomePlanet_Europa          12970 non-null  int64  \n",
            " 12  HomePlanet_Mars            12970 non-null  int64  \n",
            " 13  CryoSleep_True             12970 non-null  int64  \n",
            " 14  Destination_PSO J318.5-22  12970 non-null  int64  \n",
            " 15  Destination_TRAPPIST-1e    12970 non-null  int64  \n",
            " 16  Cabin_deck_B               12970 non-null  int64  \n",
            " 17  Cabin_deck_C               12970 non-null  int64  \n",
            " 18  Cabin_deck_D               12970 non-null  int64  \n",
            " 19  Cabin_deck_E               12970 non-null  int64  \n",
            " 20  Cabin_deck_F               12970 non-null  int64  \n",
            " 21  Cabin_deck_G               12970 non-null  int64  \n",
            " 22  Cabin_deck_T               12970 non-null  int64  \n",
            " 23  Cabin_side_S               12970 non-null  int64  \n",
            " 24  VIP_True                   12970 non-null  int64  \n",
            " 25  Name                       4183 non-null   object \n",
            "dtypes: float64(8), int64(15), object(3)\n",
            "memory usage: 2.7+ MB\n",
            "None\n"
          ]
        }
      ]
    },
    {
      "cell_type": "code",
      "source": [
        "##############################\n",
        "# Let's define some settings ##\n",
        "###############################\n",
        "optuna_study = \"ON\"\n",
        "XGB_study = \"OFF\"\n",
        "\n",
        "gpu_switch = \"OFF\"\n",
        "skf = StratifiedKFold(n_splits=10)"
      ],
      "metadata": {
        "id": "xKwhd8qsJX6o"
      },
      "execution_count": null,
      "outputs": []
    },
    {
      "cell_type": "markdown",
      "source": [
        "## Let's apply SimpleImputer + OneHotEncoder."
      ],
      "metadata": {
        "id": "K5gO_aENMMlm"
      }
    },
    {
      "cell_type": "code",
      "source": [
        "cat_cols = ['HomePlanet', 'CryoSleep', 'Destination', 'VIP', 'Cabin_side', 'Cabin_deck']"
      ],
      "metadata": {
        "id": "agK9ovLUoXgj"
      },
      "execution_count": null,
      "outputs": []
    },
    {
      "cell_type": "code",
      "source": [
        "# train_test[cat_cols] = train_test[cat_cols].astype('category')"
      ],
      "metadata": {
        "id": "NjngdFgNwPZl"
      },
      "execution_count": null,
      "outputs": []
    },
    {
      "cell_type": "markdown",
      "source": [
        "## Let's split train and test set"
      ],
      "metadata": {
        "id": "ItJqX5-rI2nr"
      }
    },
    {
      "cell_type": "code",
      "source": [
        "train = train_test[train_test['Transported'].notnull()].copy()\n",
        "train.Transported =train.Transported.astype('int')\n",
        "test = train_test[train_test['Transported'].isnull()].drop(\"Transported\",axis=1)"
      ],
      "metadata": {
        "_uuid": "d9e24109-64ef-43d0-8f68-a5891772406c",
        "_cell_guid": "b2ed8583-c551-43bc-95a9-a1c3c81b0f1b",
        "jupyter": {
          "outputs_hidden": false
        },
        "execution": {
          "iopub.status.busy": "2023-04-03T03:26:14.434451Z",
          "iopub.execute_input": "2023-04-03T03:26:14.434949Z",
          "iopub.status.idle": "2023-04-03T03:26:14.448939Z",
          "shell.execute_reply.started": "2023-04-03T03:26:14.434911Z",
          "shell.execute_reply": "2023-04-03T03:26:14.447659Z"
        },
        "trusted": true,
        "id": "FjzvSPV4is-C"
      },
      "execution_count": null,
      "outputs": []
    },
    {
      "cell_type": "code",
      "source": [
        "X = train.drop(['Transported', 'Name', 'PassengerId', 'Age_group'],axis=1)\n",
        "y = train.Transported"
      ],
      "metadata": {
        "execution": {
          "iopub.status.busy": "2023-04-03T03:26:14.751410Z",
          "iopub.execute_input": "2023-04-03T03:26:14.751806Z",
          "iopub.status.idle": "2023-04-03T03:26:14.759084Z",
          "shell.execute_reply.started": "2023-04-03T03:26:14.751774Z",
          "shell.execute_reply": "2023-04-03T03:26:14.757810Z"
        },
        "trusted": true,
        "id": "Wc7bklEIis-C"
      },
      "execution_count": null,
      "outputs": []
    },
    {
      "cell_type": "code",
      "source": [
        "X,y = shuffle(X,y)\n",
        "X = X.reset_index(drop=True)\n",
        "y = y.reset_index(drop=True)"
      ],
      "metadata": {
        "execution": {
          "iopub.status.busy": "2023-04-03T03:26:16.330064Z",
          "iopub.execute_input": "2023-04-03T03:26:16.330422Z",
          "iopub.status.idle": "2023-04-03T03:26:16.340292Z",
          "shell.execute_reply.started": "2023-04-03T03:26:16.330390Z",
          "shell.execute_reply": "2023-04-03T03:26:16.339228Z"
        },
        "trusted": true,
        "id": "86us2BBBis-D"
      },
      "execution_count": null,
      "outputs": []
    },
    {
      "cell_type": "code",
      "source": [
        "print(get_score(xgb.XGBClassifier(**params_XGB_best),X,y).mean())"
      ],
      "metadata": {
        "execution": {
          "iopub.status.busy": "2023-04-03T02:44:06.041202Z",
          "iopub.execute_input": "2023-04-03T02:44:06.041590Z"
        },
        "trusted": true,
        "colab": {
          "base_uri": "https://localhost:8080/"
        },
        "id": "4YAGHVJmis-D",
        "outputId": "91984de4-40bb-400d-cf3e-72e25ec94e26"
      },
      "execution_count": null,
      "outputs": [
        {
          "output_type": "stream",
          "name": "stdout",
          "text": [
            "0.8110016420361248\n"
          ]
        }
      ]
    },
    {
      "cell_type": "markdown",
      "source": [
        "## 4. Modeling"
      ],
      "metadata": {
        "id": "GyObdJnRpwMP"
      }
    },
    {
      "cell_type": "code",
      "source": [
        "###############################\n",
        "# Let's define some settings ##\n",
        "###############################\n",
        "optuna_study = \"ON\"\n",
        "# LGBM_study = \"OFF\"\n",
        "XGB_study = \"OFF\"\n",
        "# CAT_study = \"OFF\"\n",
        "\n",
        "\n",
        "gpu_switch = \"OFF\"\n",
        "skf = StratifiedKFold(n_splits=10)"
      ],
      "metadata": {
        "id": "j2uHt98To8Ii"
      },
      "execution_count": null,
      "outputs": []
    },
    {
      "cell_type": "markdown",
      "source": [
        "## 5. XGB"
      ],
      "metadata": {
        "id": "5TydyKOlp17y"
      }
    },
    {
      "cell_type": "code",
      "source": [
        "# Check if GPU usage is enabled\n",
        "if gpu_switch == \"ON\":\n",
        "    # If so, use GPU-optimized tree_method\n",
        "    method = \"gpu_hist\"\n",
        "else:\n",
        "    # Otherwise, use CPU-optimized tree_method\n",
        "    method = \"hist\"\n",
        "\n",
        "# Define a function for hyperparameter tuning\n",
        "def objective(trial):\n",
        "    # Print a message to indicate that the function has started\n",
        "    print(\"START__________________________________\")\n",
        "    \n",
        "    # Initialize a dictionary of hyperparameters\n",
        "    param = {  \n",
        "        'tree_method': method,  # Use the specified tree_method\n",
        "        'objective': 'binary:logistic',  # Binary classification problem\n",
        "        'eval_metric': 'logloss',  # Use logloss as evaluation metric\n",
        "        'lambda': trial.suggest_float('lambda', 0, 10.0),  # L2 regularization parameter\n",
        "        'alpha': trial.suggest_float('alpha', 0, 10.0),  # L1 regularization parameter\n",
        "        'colsample_bytree': trial.suggest_float('colsample_bytree', 0.1,1.0),  # Feature subsampling ratio\n",
        "        'subsample': trial.suggest_float('subsample', 0.2,1.0),  # Data subsampling ratio\n",
        "        'learning_rate': trial.suggest_float('learning_rate', 0.0001,0.1),  # Learning rate\n",
        "        'n_estimators': trial.suggest_int('n_estimators', 100,3000),  # Number of trees in the ensemble\n",
        "        'max_depth': trial.suggest_categorical('max_depth', [2,3,4,5,6,7,8,9,10]),  # Maximum depth of a tree\n",
        "        'min_child_weight': trial.suggest_int('min_child_weight', 1, 10),  # Minimum sum of instance weight needed in a child\n",
        "        'num_parallel_tree': trial.suggest_int('num_parallel_tree',1,1),  # Number of parallel trees constructed during each iteration\n",
        "        #'early_stopping_rounds':200,  # Early stopping rounds\n",
        "        }\n",
        "    \n",
        "    # Create lists to store the results and number of iterations for each fold\n",
        "    results=[]\n",
        "    n_iterations=[]\n",
        "    \n",
        "    # Loop over each fold in the cross-validation\n",
        "    for train_index, test_index in skf.split(X, y):\n",
        "        # Split the data into training and validation sets\n",
        "        train_X, valid_X = X.iloc[train_index], X.iloc[test_index]\n",
        "        train_y, valid_y = y.iloc[train_index], y.iloc[test_index]\n",
        "        \n",
        "        # Train an XGBoost model with the hyperparameters specified in param\n",
        "        model = xgb.XGBClassifier(**param).fit(train_X,train_y,\n",
        "                                      eval_set=[(valid_X,valid_y)],\n",
        "                                      verbose=0\n",
        "                                     )  \n",
        "        # Get the number of iterations for the best model (not used in this code)\n",
        "        #n_iteration = model.get_booster().best_iteration\n",
        "        #n_iterations.append(n_iteration)\n",
        "        \n",
        "        # Calculate the accuracy score of the model on the validation set\n",
        "        result = accuracy_score(valid_y,(model.predict(valid_X)))\n",
        "        results.append(result)\n",
        "        \n",
        "    # Calculate the mean accuracy score across all folds\n",
        "    n=sum(results)/len(results) \n",
        "    \n",
        "    # Print the mean accuracy score and a message to indicate that the function has finished\n",
        "    print (n)\n",
        "    print(\"FIIINISH__________________________________\\n\")\n",
        "    \n",
        "    # Return the mean accuracy score as the objective value for the hyperparameter tuning\n",
        "    return n\n",
        "\n",
        "\n",
        "if optuna_study == XGB_study:\n",
        "    study = optuna.create_study(pruner=optuna.pruners.HyperbandPruner(),\n",
        "                                direction='maximize')\n",
        "    study.optimize(objective, n_trials=1000)"
      ],
      "metadata": {
        "id": "OaL_Og0Yp0L8"
      },
      "execution_count": null,
      "outputs": []
    },
    {
      "cell_type": "code",
      "source": [
        "#Trial 992 finished with value: 0.8112\n",
        "params_XGB_best= {'lambda': 3.0610042624477543, \n",
        "             'alpha': 4.581902571574289, \n",
        "             'colsample_bytree': 0.9241969052729379, \n",
        "             'subsample': 0.9527591724824661, \n",
        "             'learning_rate': 0.06672065863100594, \n",
        "             'n_estimators': 730, #initial value is 651\n",
        "             'max_depth': 5, \n",
        "             'min_child_weight': 1, \n",
        "             'num_parallel_tree': 1}"
      ],
      "metadata": {
        "id": "JKPKRkNVp7Gb"
      },
      "execution_count": null,
      "outputs": []
    },
    {
      "cell_type": "markdown",
      "source": [
        "## 6. Submission"
      ],
      "metadata": {
        "id": "sTn-VPrqp8WD"
      }
    },
    {
      "cell_type": "code",
      "source": [
        "# Check the columns of the test data\n",
        "print(test.columns)\n",
        "\n",
        "\n"
      ],
      "metadata": {
        "colab": {
          "base_uri": "https://localhost:8080/"
        },
        "id": "-CEwZ0R-zuNm",
        "outputId": "7b32f550-8dd2-412b-9a51-9104ca267dca"
      },
      "execution_count": null,
      "outputs": [
        {
          "output_type": "stream",
          "name": "stdout",
          "text": [
            "Index(['Unnamed: 0', 'PassengerId', 'Cabin_number', 'Age', 'RoomService',\n",
            "       'Age_group', 'FoodCourt', 'ShoppingMall', 'Spa', 'VRDeck',\n",
            "       'HomePlanet_Europa', 'HomePlanet_Mars', 'CryoSleep_True',\n",
            "       'Destination_PSO J318.5-22', 'Destination_TRAPPIST-1e', 'Cabin_deck_B',\n",
            "       'Cabin_deck_C', 'Cabin_deck_D', 'Cabin_deck_E', 'Cabin_deck_F',\n",
            "       'Cabin_deck_G', 'Cabin_deck_T', 'Cabin_side_S', 'VIP_True', 'Name'],\n",
            "      dtype='object')\n"
          ]
        }
      ]
    },
    {
      "cell_type": "code",
      "source": [
        "# Select only the relevant features from the test data\n",
        "test_subset = test[X.columns]\n",
        "\n",
        "# Use the XGBoost model with optimized hyperparameters to make predictions\n",
        "pred_XGB_best = xgb.XGBClassifier(**params_XGB_best).fit(X, y).predict(test_subset)\n",
        "\n",
        "# Update the 'Transported' column in the sample DataFrame\n",
        "sample['Transported'] = pred_XGB_best\n",
        "sample['Transported'] = sample['Transported'] > 0.5\n",
        "\n",
        "# Save the submission predictions to a CSV file\n",
        "sample.to_csv('/content/drive/MyDrive/CUAI_BASIC/최종 모델링/submission.csv', index=False)"
      ],
      "metadata": {
        "id": "-so_utaNz1M5"
      },
      "execution_count": null,
      "outputs": []
    },
    {
      "cell_type": "code",
      "source": [
        "print(get_score(xgb.XGBClassifier(**params_XGB_best),X,y).mean())"
      ],
      "metadata": {
        "colab": {
          "base_uri": "https://localhost:8080/"
        },
        "id": "iYgoC__h0C7G",
        "outputId": "9701cbe5-22bc-4e25-982d-046f53263615"
      },
      "execution_count": null,
      "outputs": [
        {
          "output_type": "stream",
          "name": "stdout",
          "text": [
            "0.8110037607924149\n"
          ]
        }
      ]
    }
  ]
}